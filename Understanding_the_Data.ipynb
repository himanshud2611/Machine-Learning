{
  "nbformat": 4,
  "nbformat_minor": 0,
  "metadata": {
    "colab": {
      "provenance": [],
      "authorship_tag": "ABX9TyOeNuwXoxm2xyF6Zzu1xRmg",
      "include_colab_link": true
    },
    "kernelspec": {
      "name": "python3",
      "display_name": "Python 3"
    },
    "language_info": {
      "name": "python"
    }
  },
  "cells": [
    {
      "cell_type": "markdown",
      "metadata": {
        "id": "view-in-github",
        "colab_type": "text"
      },
      "source": [
        "<a href=\"https://colab.research.google.com/github/himanshud2611/Machine-Learning/blob/main/Understanding_the_Data.ipynb\" target=\"_parent\"><img src=\"https://colab.research.google.com/assets/colab-badge.svg\" alt=\"Open In Colab\"/></a>"
      ]
    },
    {
      "cell_type": "code",
      "execution_count": 1,
      "metadata": {
        "id": "r9N6EGBS2uSp"
      },
      "outputs": [],
      "source": [
        "import pandas as pd"
      ]
    },
    {
      "cell_type": "code",
      "source": [
        "df = pd.read_csv('train.csv')"
      ],
      "metadata": {
        "id": "Rd5er1Ug4hDB"
      },
      "execution_count": 2,
      "outputs": []
    },
    {
      "cell_type": "markdown",
      "source": [
        "## 1. How Big is the Data"
      ],
      "metadata": {
        "id": "dspAG0Sf4nk6"
      }
    },
    {
      "cell_type": "code",
      "source": [
        "df.shape"
      ],
      "metadata": {
        "colab": {
          "base_uri": "https://localhost:8080/"
        },
        "id": "F3Cr-ZYa4k5d",
        "outputId": "20108380-8e9b-456d-e185-fc1fddd62e20"
      },
      "execution_count": 3,
      "outputs": [
        {
          "output_type": "execute_result",
          "data": {
            "text/plain": [
              "(891, 12)"
            ]
          },
          "metadata": {},
          "execution_count": 3
        }
      ]
    },
    {
      "cell_type": "markdown",
      "source": [
        "##1. How does the Data looks like"
      ],
      "metadata": {
        "id": "hzc1-Y9N4uVC"
      }
    },
    {
      "cell_type": "code",
      "source": [
        "df.head()"
      ],
      "metadata": {
        "colab": {
          "base_uri": "https://localhost:8080/",
          "height": 206
        },
        "id": "PJVTul0h4slu",
        "outputId": "f71ce05a-d507-4521-d0a2-aa587fb6a0c3"
      },
      "execution_count": 4,
      "outputs": [
        {
          "output_type": "execute_result",
          "data": {
            "text/plain": [
              "   PassengerId  Survived  Pclass  \\\n",
              "0            1         0       3   \n",
              "1            2         1       1   \n",
              "2            3         1       3   \n",
              "3            4         1       1   \n",
              "4            5         0       3   \n",
              "\n",
              "                                                Name     Sex   Age  SibSp  \\\n",
              "0                            Braund, Mr. Owen Harris    male  22.0      1   \n",
              "1  Cumings, Mrs. John Bradley (Florence Briggs Th...  female  38.0      1   \n",
              "2                             Heikkinen, Miss. Laina  female  26.0      0   \n",
              "3       Futrelle, Mrs. Jacques Heath (Lily May Peel)  female  35.0      1   \n",
              "4                           Allen, Mr. William Henry    male  35.0      0   \n",
              "\n",
              "   Parch            Ticket     Fare Cabin Embarked  \n",
              "0      0         A/5 21171   7.2500   NaN        S  \n",
              "1      0          PC 17599  71.2833   C85        C  \n",
              "2      0  STON/O2. 3101282   7.9250   NaN        S  \n",
              "3      0            113803  53.1000  C123        S  \n",
              "4      0            373450   8.0500   NaN        S  "
            ],
            "text/html": [
              "\n",
              "  <div id=\"df-e5711b1b-81e3-4a16-afc2-915d054c5518\" class=\"colab-df-container\">\n",
              "    <div>\n",
              "<style scoped>\n",
              "    .dataframe tbody tr th:only-of-type {\n",
              "        vertical-align: middle;\n",
              "    }\n",
              "\n",
              "    .dataframe tbody tr th {\n",
              "        vertical-align: top;\n",
              "    }\n",
              "\n",
              "    .dataframe thead th {\n",
              "        text-align: right;\n",
              "    }\n",
              "</style>\n",
              "<table border=\"1\" class=\"dataframe\">\n",
              "  <thead>\n",
              "    <tr style=\"text-align: right;\">\n",
              "      <th></th>\n",
              "      <th>PassengerId</th>\n",
              "      <th>Survived</th>\n",
              "      <th>Pclass</th>\n",
              "      <th>Name</th>\n",
              "      <th>Sex</th>\n",
              "      <th>Age</th>\n",
              "      <th>SibSp</th>\n",
              "      <th>Parch</th>\n",
              "      <th>Ticket</th>\n",
              "      <th>Fare</th>\n",
              "      <th>Cabin</th>\n",
              "      <th>Embarked</th>\n",
              "    </tr>\n",
              "  </thead>\n",
              "  <tbody>\n",
              "    <tr>\n",
              "      <th>0</th>\n",
              "      <td>1</td>\n",
              "      <td>0</td>\n",
              "      <td>3</td>\n",
              "      <td>Braund, Mr. Owen Harris</td>\n",
              "      <td>male</td>\n",
              "      <td>22.0</td>\n",
              "      <td>1</td>\n",
              "      <td>0</td>\n",
              "      <td>A/5 21171</td>\n",
              "      <td>7.2500</td>\n",
              "      <td>NaN</td>\n",
              "      <td>S</td>\n",
              "    </tr>\n",
              "    <tr>\n",
              "      <th>1</th>\n",
              "      <td>2</td>\n",
              "      <td>1</td>\n",
              "      <td>1</td>\n",
              "      <td>Cumings, Mrs. John Bradley (Florence Briggs Th...</td>\n",
              "      <td>female</td>\n",
              "      <td>38.0</td>\n",
              "      <td>1</td>\n",
              "      <td>0</td>\n",
              "      <td>PC 17599</td>\n",
              "      <td>71.2833</td>\n",
              "      <td>C85</td>\n",
              "      <td>C</td>\n",
              "    </tr>\n",
              "    <tr>\n",
              "      <th>2</th>\n",
              "      <td>3</td>\n",
              "      <td>1</td>\n",
              "      <td>3</td>\n",
              "      <td>Heikkinen, Miss. Laina</td>\n",
              "      <td>female</td>\n",
              "      <td>26.0</td>\n",
              "      <td>0</td>\n",
              "      <td>0</td>\n",
              "      <td>STON/O2. 3101282</td>\n",
              "      <td>7.9250</td>\n",
              "      <td>NaN</td>\n",
              "      <td>S</td>\n",
              "    </tr>\n",
              "    <tr>\n",
              "      <th>3</th>\n",
              "      <td>4</td>\n",
              "      <td>1</td>\n",
              "      <td>1</td>\n",
              "      <td>Futrelle, Mrs. Jacques Heath (Lily May Peel)</td>\n",
              "      <td>female</td>\n",
              "      <td>35.0</td>\n",
              "      <td>1</td>\n",
              "      <td>0</td>\n",
              "      <td>113803</td>\n",
              "      <td>53.1000</td>\n",
              "      <td>C123</td>\n",
              "      <td>S</td>\n",
              "    </tr>\n",
              "    <tr>\n",
              "      <th>4</th>\n",
              "      <td>5</td>\n",
              "      <td>0</td>\n",
              "      <td>3</td>\n",
              "      <td>Allen, Mr. William Henry</td>\n",
              "      <td>male</td>\n",
              "      <td>35.0</td>\n",
              "      <td>0</td>\n",
              "      <td>0</td>\n",
              "      <td>373450</td>\n",
              "      <td>8.0500</td>\n",
              "      <td>NaN</td>\n",
              "      <td>S</td>\n",
              "    </tr>\n",
              "  </tbody>\n",
              "</table>\n",
              "</div>\n",
              "    <div class=\"colab-df-buttons\">\n",
              "\n",
              "  <div class=\"colab-df-container\">\n",
              "    <button class=\"colab-df-convert\" onclick=\"convertToInteractive('df-e5711b1b-81e3-4a16-afc2-915d054c5518')\"\n",
              "            title=\"Convert this dataframe to an interactive table.\"\n",
              "            style=\"display:none;\">\n",
              "\n",
              "  <svg xmlns=\"http://www.w3.org/2000/svg\" height=\"24px\" viewBox=\"0 -960 960 960\">\n",
              "    <path d=\"M120-120v-720h720v720H120Zm60-500h600v-160H180v160Zm220 220h160v-160H400v160Zm0 220h160v-160H400v160ZM180-400h160v-160H180v160Zm440 0h160v-160H620v160ZM180-180h160v-160H180v160Zm440 0h160v-160H620v160Z\"/>\n",
              "  </svg>\n",
              "    </button>\n",
              "\n",
              "  <style>\n",
              "    .colab-df-container {\n",
              "      display:flex;\n",
              "      gap: 12px;\n",
              "    }\n",
              "\n",
              "    .colab-df-convert {\n",
              "      background-color: #E8F0FE;\n",
              "      border: none;\n",
              "      border-radius: 50%;\n",
              "      cursor: pointer;\n",
              "      display: none;\n",
              "      fill: #1967D2;\n",
              "      height: 32px;\n",
              "      padding: 0 0 0 0;\n",
              "      width: 32px;\n",
              "    }\n",
              "\n",
              "    .colab-df-convert:hover {\n",
              "      background-color: #E2EBFA;\n",
              "      box-shadow: 0px 1px 2px rgba(60, 64, 67, 0.3), 0px 1px 3px 1px rgba(60, 64, 67, 0.15);\n",
              "      fill: #174EA6;\n",
              "    }\n",
              "\n",
              "    .colab-df-buttons div {\n",
              "      margin-bottom: 4px;\n",
              "    }\n",
              "\n",
              "    [theme=dark] .colab-df-convert {\n",
              "      background-color: #3B4455;\n",
              "      fill: #D2E3FC;\n",
              "    }\n",
              "\n",
              "    [theme=dark] .colab-df-convert:hover {\n",
              "      background-color: #434B5C;\n",
              "      box-shadow: 0px 1px 3px 1px rgba(0, 0, 0, 0.15);\n",
              "      filter: drop-shadow(0px 1px 2px rgba(0, 0, 0, 0.3));\n",
              "      fill: #FFFFFF;\n",
              "    }\n",
              "  </style>\n",
              "\n",
              "    <script>\n",
              "      const buttonEl =\n",
              "        document.querySelector('#df-e5711b1b-81e3-4a16-afc2-915d054c5518 button.colab-df-convert');\n",
              "      buttonEl.style.display =\n",
              "        google.colab.kernel.accessAllowed ? 'block' : 'none';\n",
              "\n",
              "      async function convertToInteractive(key) {\n",
              "        const element = document.querySelector('#df-e5711b1b-81e3-4a16-afc2-915d054c5518');\n",
              "        const dataTable =\n",
              "          await google.colab.kernel.invokeFunction('convertToInteractive',\n",
              "                                                    [key], {});\n",
              "        if (!dataTable) return;\n",
              "\n",
              "        const docLinkHtml = 'Like what you see? Visit the ' +\n",
              "          '<a target=\"_blank\" href=https://colab.research.google.com/notebooks/data_table.ipynb>data table notebook</a>'\n",
              "          + ' to learn more about interactive tables.';\n",
              "        element.innerHTML = '';\n",
              "        dataTable['output_type'] = 'display_data';\n",
              "        await google.colab.output.renderOutput(dataTable, element);\n",
              "        const docLink = document.createElement('div');\n",
              "        docLink.innerHTML = docLinkHtml;\n",
              "        element.appendChild(docLink);\n",
              "      }\n",
              "    </script>\n",
              "  </div>\n",
              "\n",
              "\n",
              "<div id=\"df-4d333a58-f215-48c9-b916-58327eb885a2\">\n",
              "  <button class=\"colab-df-quickchart\" onclick=\"quickchart('df-4d333a58-f215-48c9-b916-58327eb885a2')\"\n",
              "            title=\"Suggest charts\"\n",
              "            style=\"display:none;\">\n",
              "\n",
              "<svg xmlns=\"http://www.w3.org/2000/svg\" height=\"24px\"viewBox=\"0 0 24 24\"\n",
              "     width=\"24px\">\n",
              "    <g>\n",
              "        <path d=\"M19 3H5c-1.1 0-2 .9-2 2v14c0 1.1.9 2 2 2h14c1.1 0 2-.9 2-2V5c0-1.1-.9-2-2-2zM9 17H7v-7h2v7zm4 0h-2V7h2v10zm4 0h-2v-4h2v4z\"/>\n",
              "    </g>\n",
              "</svg>\n",
              "  </button>\n",
              "\n",
              "<style>\n",
              "  .colab-df-quickchart {\n",
              "      --bg-color: #E8F0FE;\n",
              "      --fill-color: #1967D2;\n",
              "      --hover-bg-color: #E2EBFA;\n",
              "      --hover-fill-color: #174EA6;\n",
              "      --disabled-fill-color: #AAA;\n",
              "      --disabled-bg-color: #DDD;\n",
              "  }\n",
              "\n",
              "  [theme=dark] .colab-df-quickchart {\n",
              "      --bg-color: #3B4455;\n",
              "      --fill-color: #D2E3FC;\n",
              "      --hover-bg-color: #434B5C;\n",
              "      --hover-fill-color: #FFFFFF;\n",
              "      --disabled-bg-color: #3B4455;\n",
              "      --disabled-fill-color: #666;\n",
              "  }\n",
              "\n",
              "  .colab-df-quickchart {\n",
              "    background-color: var(--bg-color);\n",
              "    border: none;\n",
              "    border-radius: 50%;\n",
              "    cursor: pointer;\n",
              "    display: none;\n",
              "    fill: var(--fill-color);\n",
              "    height: 32px;\n",
              "    padding: 0;\n",
              "    width: 32px;\n",
              "  }\n",
              "\n",
              "  .colab-df-quickchart:hover {\n",
              "    background-color: var(--hover-bg-color);\n",
              "    box-shadow: 0 1px 2px rgba(60, 64, 67, 0.3), 0 1px 3px 1px rgba(60, 64, 67, 0.15);\n",
              "    fill: var(--button-hover-fill-color);\n",
              "  }\n",
              "\n",
              "  .colab-df-quickchart-complete:disabled,\n",
              "  .colab-df-quickchart-complete:disabled:hover {\n",
              "    background-color: var(--disabled-bg-color);\n",
              "    fill: var(--disabled-fill-color);\n",
              "    box-shadow: none;\n",
              "  }\n",
              "\n",
              "  .colab-df-spinner {\n",
              "    border: 2px solid var(--fill-color);\n",
              "    border-color: transparent;\n",
              "    border-bottom-color: var(--fill-color);\n",
              "    animation:\n",
              "      spin 1s steps(1) infinite;\n",
              "  }\n",
              "\n",
              "  @keyframes spin {\n",
              "    0% {\n",
              "      border-color: transparent;\n",
              "      border-bottom-color: var(--fill-color);\n",
              "      border-left-color: var(--fill-color);\n",
              "    }\n",
              "    20% {\n",
              "      border-color: transparent;\n",
              "      border-left-color: var(--fill-color);\n",
              "      border-top-color: var(--fill-color);\n",
              "    }\n",
              "    30% {\n",
              "      border-color: transparent;\n",
              "      border-left-color: var(--fill-color);\n",
              "      border-top-color: var(--fill-color);\n",
              "      border-right-color: var(--fill-color);\n",
              "    }\n",
              "    40% {\n",
              "      border-color: transparent;\n",
              "      border-right-color: var(--fill-color);\n",
              "      border-top-color: var(--fill-color);\n",
              "    }\n",
              "    60% {\n",
              "      border-color: transparent;\n",
              "      border-right-color: var(--fill-color);\n",
              "    }\n",
              "    80% {\n",
              "      border-color: transparent;\n",
              "      border-right-color: var(--fill-color);\n",
              "      border-bottom-color: var(--fill-color);\n",
              "    }\n",
              "    90% {\n",
              "      border-color: transparent;\n",
              "      border-bottom-color: var(--fill-color);\n",
              "    }\n",
              "  }\n",
              "</style>\n",
              "\n",
              "  <script>\n",
              "    async function quickchart(key) {\n",
              "      const quickchartButtonEl =\n",
              "        document.querySelector('#' + key + ' button');\n",
              "      quickchartButtonEl.disabled = true;  // To prevent multiple clicks.\n",
              "      quickchartButtonEl.classList.add('colab-df-spinner');\n",
              "      try {\n",
              "        const charts = await google.colab.kernel.invokeFunction(\n",
              "            'suggestCharts', [key], {});\n",
              "      } catch (error) {\n",
              "        console.error('Error during call to suggestCharts:', error);\n",
              "      }\n",
              "      quickchartButtonEl.classList.remove('colab-df-spinner');\n",
              "      quickchartButtonEl.classList.add('colab-df-quickchart-complete');\n",
              "    }\n",
              "    (() => {\n",
              "      let quickchartButtonEl =\n",
              "        document.querySelector('#df-4d333a58-f215-48c9-b916-58327eb885a2 button');\n",
              "      quickchartButtonEl.style.display =\n",
              "        google.colab.kernel.accessAllowed ? 'block' : 'none';\n",
              "    })();\n",
              "  </script>\n",
              "</div>\n",
              "\n",
              "    </div>\n",
              "  </div>\n"
            ],
            "application/vnd.google.colaboratory.intrinsic+json": {
              "type": "dataframe",
              "variable_name": "df",
              "summary": "{\n  \"name\": \"df\",\n  \"rows\": 891,\n  \"fields\": [\n    {\n      \"column\": \"PassengerId\",\n      \"properties\": {\n        \"dtype\": \"number\",\n        \"std\": 257,\n        \"min\": 1,\n        \"max\": 891,\n        \"num_unique_values\": 891,\n        \"samples\": [\n          710,\n          440,\n          841\n        ],\n        \"semantic_type\": \"\",\n        \"description\": \"\"\n      }\n    },\n    {\n      \"column\": \"Survived\",\n      \"properties\": {\n        \"dtype\": \"number\",\n        \"std\": 0,\n        \"min\": 0,\n        \"max\": 1,\n        \"num_unique_values\": 2,\n        \"samples\": [\n          1,\n          0\n        ],\n        \"semantic_type\": \"\",\n        \"description\": \"\"\n      }\n    },\n    {\n      \"column\": \"Pclass\",\n      \"properties\": {\n        \"dtype\": \"number\",\n        \"std\": 0,\n        \"min\": 1,\n        \"max\": 3,\n        \"num_unique_values\": 3,\n        \"samples\": [\n          3,\n          1\n        ],\n        \"semantic_type\": \"\",\n        \"description\": \"\"\n      }\n    },\n    {\n      \"column\": \"Name\",\n      \"properties\": {\n        \"dtype\": \"string\",\n        \"num_unique_values\": 891,\n        \"samples\": [\n          \"Moubarek, Master. Halim Gonios (\\\"William George\\\")\",\n          \"Kvillner, Mr. Johan Henrik Johannesson\"\n        ],\n        \"semantic_type\": \"\",\n        \"description\": \"\"\n      }\n    },\n    {\n      \"column\": \"Sex\",\n      \"properties\": {\n        \"dtype\": \"category\",\n        \"num_unique_values\": 2,\n        \"samples\": [\n          \"female\",\n          \"male\"\n        ],\n        \"semantic_type\": \"\",\n        \"description\": \"\"\n      }\n    },\n    {\n      \"column\": \"Age\",\n      \"properties\": {\n        \"dtype\": \"number\",\n        \"std\": 14.526497332334042,\n        \"min\": 0.42,\n        \"max\": 80.0,\n        \"num_unique_values\": 88,\n        \"samples\": [\n          0.75,\n          22.0\n        ],\n        \"semantic_type\": \"\",\n        \"description\": \"\"\n      }\n    },\n    {\n      \"column\": \"SibSp\",\n      \"properties\": {\n        \"dtype\": \"number\",\n        \"std\": 1,\n        \"min\": 0,\n        \"max\": 8,\n        \"num_unique_values\": 7,\n        \"samples\": [\n          1,\n          0\n        ],\n        \"semantic_type\": \"\",\n        \"description\": \"\"\n      }\n    },\n    {\n      \"column\": \"Parch\",\n      \"properties\": {\n        \"dtype\": \"number\",\n        \"std\": 0,\n        \"min\": 0,\n        \"max\": 6,\n        \"num_unique_values\": 7,\n        \"samples\": [\n          0,\n          1\n        ],\n        \"semantic_type\": \"\",\n        \"description\": \"\"\n      }\n    },\n    {\n      \"column\": \"Ticket\",\n      \"properties\": {\n        \"dtype\": \"string\",\n        \"num_unique_values\": 681,\n        \"samples\": [\n          \"11774\",\n          \"248740\"\n        ],\n        \"semantic_type\": \"\",\n        \"description\": \"\"\n      }\n    },\n    {\n      \"column\": \"Fare\",\n      \"properties\": {\n        \"dtype\": \"number\",\n        \"std\": 49.6934285971809,\n        \"min\": 0.0,\n        \"max\": 512.3292,\n        \"num_unique_values\": 248,\n        \"samples\": [\n          11.2417,\n          51.8625\n        ],\n        \"semantic_type\": \"\",\n        \"description\": \"\"\n      }\n    },\n    {\n      \"column\": \"Cabin\",\n      \"properties\": {\n        \"dtype\": \"category\",\n        \"num_unique_values\": 147,\n        \"samples\": [\n          \"D45\",\n          \"B49\"\n        ],\n        \"semantic_type\": \"\",\n        \"description\": \"\"\n      }\n    },\n    {\n      \"column\": \"Embarked\",\n      \"properties\": {\n        \"dtype\": \"category\",\n        \"num_unique_values\": 3,\n        \"samples\": [\n          \"S\",\n          \"C\"\n        ],\n        \"semantic_type\": \"\",\n        \"description\": \"\"\n      }\n    }\n  ]\n}"
            }
          },
          "metadata": {},
          "execution_count": 4
        }
      ]
    },
    {
      "cell_type": "code",
      "source": [
        "df.sample(5)  #random check, much better"
      ],
      "metadata": {
        "colab": {
          "base_uri": "https://localhost:8080/",
          "height": 206
        },
        "id": "SsN_Q0r7434b",
        "outputId": "420981ac-fa2d-407a-81b4-28952b0ac807"
      },
      "execution_count": 5,
      "outputs": [
        {
          "output_type": "execute_result",
          "data": {
            "text/plain": [
              "     PassengerId  Survived  Pclass  \\\n",
              "360          361         0       3   \n",
              "607          608         1       1   \n",
              "573          574         1       3   \n",
              "251          252         0       3   \n",
              "330          331         1       3   \n",
              "\n",
              "                                           Name     Sex   Age  SibSp  Parch  \\\n",
              "360                          Skoog, Mr. Wilhelm    male  40.0      1      4   \n",
              "607                 Daniel, Mr. Robert Williams    male  27.0      0      0   \n",
              "573                           Kelly, Miss. Mary  female   NaN      0      0   \n",
              "251  Strom, Mrs. Wilhelm (Elna Matilda Persson)  female  29.0      1      1   \n",
              "330                          McCoy, Miss. Agnes  female   NaN      2      0   \n",
              "\n",
              "     Ticket     Fare Cabin Embarked  \n",
              "360  347088  27.9000   NaN        S  \n",
              "607  113804  30.5000   NaN        S  \n",
              "573   14312   7.7500   NaN        Q  \n",
              "251  347054  10.4625    G6        S  \n",
              "330  367226  23.2500   NaN        Q  "
            ],
            "text/html": [
              "\n",
              "  <div id=\"df-e21030d8-fe9e-4b65-8a3f-d4a769068adb\" class=\"colab-df-container\">\n",
              "    <div>\n",
              "<style scoped>\n",
              "    .dataframe tbody tr th:only-of-type {\n",
              "        vertical-align: middle;\n",
              "    }\n",
              "\n",
              "    .dataframe tbody tr th {\n",
              "        vertical-align: top;\n",
              "    }\n",
              "\n",
              "    .dataframe thead th {\n",
              "        text-align: right;\n",
              "    }\n",
              "</style>\n",
              "<table border=\"1\" class=\"dataframe\">\n",
              "  <thead>\n",
              "    <tr style=\"text-align: right;\">\n",
              "      <th></th>\n",
              "      <th>PassengerId</th>\n",
              "      <th>Survived</th>\n",
              "      <th>Pclass</th>\n",
              "      <th>Name</th>\n",
              "      <th>Sex</th>\n",
              "      <th>Age</th>\n",
              "      <th>SibSp</th>\n",
              "      <th>Parch</th>\n",
              "      <th>Ticket</th>\n",
              "      <th>Fare</th>\n",
              "      <th>Cabin</th>\n",
              "      <th>Embarked</th>\n",
              "    </tr>\n",
              "  </thead>\n",
              "  <tbody>\n",
              "    <tr>\n",
              "      <th>360</th>\n",
              "      <td>361</td>\n",
              "      <td>0</td>\n",
              "      <td>3</td>\n",
              "      <td>Skoog, Mr. Wilhelm</td>\n",
              "      <td>male</td>\n",
              "      <td>40.0</td>\n",
              "      <td>1</td>\n",
              "      <td>4</td>\n",
              "      <td>347088</td>\n",
              "      <td>27.9000</td>\n",
              "      <td>NaN</td>\n",
              "      <td>S</td>\n",
              "    </tr>\n",
              "    <tr>\n",
              "      <th>607</th>\n",
              "      <td>608</td>\n",
              "      <td>1</td>\n",
              "      <td>1</td>\n",
              "      <td>Daniel, Mr. Robert Williams</td>\n",
              "      <td>male</td>\n",
              "      <td>27.0</td>\n",
              "      <td>0</td>\n",
              "      <td>0</td>\n",
              "      <td>113804</td>\n",
              "      <td>30.5000</td>\n",
              "      <td>NaN</td>\n",
              "      <td>S</td>\n",
              "    </tr>\n",
              "    <tr>\n",
              "      <th>573</th>\n",
              "      <td>574</td>\n",
              "      <td>1</td>\n",
              "      <td>3</td>\n",
              "      <td>Kelly, Miss. Mary</td>\n",
              "      <td>female</td>\n",
              "      <td>NaN</td>\n",
              "      <td>0</td>\n",
              "      <td>0</td>\n",
              "      <td>14312</td>\n",
              "      <td>7.7500</td>\n",
              "      <td>NaN</td>\n",
              "      <td>Q</td>\n",
              "    </tr>\n",
              "    <tr>\n",
              "      <th>251</th>\n",
              "      <td>252</td>\n",
              "      <td>0</td>\n",
              "      <td>3</td>\n",
              "      <td>Strom, Mrs. Wilhelm (Elna Matilda Persson)</td>\n",
              "      <td>female</td>\n",
              "      <td>29.0</td>\n",
              "      <td>1</td>\n",
              "      <td>1</td>\n",
              "      <td>347054</td>\n",
              "      <td>10.4625</td>\n",
              "      <td>G6</td>\n",
              "      <td>S</td>\n",
              "    </tr>\n",
              "    <tr>\n",
              "      <th>330</th>\n",
              "      <td>331</td>\n",
              "      <td>1</td>\n",
              "      <td>3</td>\n",
              "      <td>McCoy, Miss. Agnes</td>\n",
              "      <td>female</td>\n",
              "      <td>NaN</td>\n",
              "      <td>2</td>\n",
              "      <td>0</td>\n",
              "      <td>367226</td>\n",
              "      <td>23.2500</td>\n",
              "      <td>NaN</td>\n",
              "      <td>Q</td>\n",
              "    </tr>\n",
              "  </tbody>\n",
              "</table>\n",
              "</div>\n",
              "    <div class=\"colab-df-buttons\">\n",
              "\n",
              "  <div class=\"colab-df-container\">\n",
              "    <button class=\"colab-df-convert\" onclick=\"convertToInteractive('df-e21030d8-fe9e-4b65-8a3f-d4a769068adb')\"\n",
              "            title=\"Convert this dataframe to an interactive table.\"\n",
              "            style=\"display:none;\">\n",
              "\n",
              "  <svg xmlns=\"http://www.w3.org/2000/svg\" height=\"24px\" viewBox=\"0 -960 960 960\">\n",
              "    <path d=\"M120-120v-720h720v720H120Zm60-500h600v-160H180v160Zm220 220h160v-160H400v160Zm0 220h160v-160H400v160ZM180-400h160v-160H180v160Zm440 0h160v-160H620v160ZM180-180h160v-160H180v160Zm440 0h160v-160H620v160Z\"/>\n",
              "  </svg>\n",
              "    </button>\n",
              "\n",
              "  <style>\n",
              "    .colab-df-container {\n",
              "      display:flex;\n",
              "      gap: 12px;\n",
              "    }\n",
              "\n",
              "    .colab-df-convert {\n",
              "      background-color: #E8F0FE;\n",
              "      border: none;\n",
              "      border-radius: 50%;\n",
              "      cursor: pointer;\n",
              "      display: none;\n",
              "      fill: #1967D2;\n",
              "      height: 32px;\n",
              "      padding: 0 0 0 0;\n",
              "      width: 32px;\n",
              "    }\n",
              "\n",
              "    .colab-df-convert:hover {\n",
              "      background-color: #E2EBFA;\n",
              "      box-shadow: 0px 1px 2px rgba(60, 64, 67, 0.3), 0px 1px 3px 1px rgba(60, 64, 67, 0.15);\n",
              "      fill: #174EA6;\n",
              "    }\n",
              "\n",
              "    .colab-df-buttons div {\n",
              "      margin-bottom: 4px;\n",
              "    }\n",
              "\n",
              "    [theme=dark] .colab-df-convert {\n",
              "      background-color: #3B4455;\n",
              "      fill: #D2E3FC;\n",
              "    }\n",
              "\n",
              "    [theme=dark] .colab-df-convert:hover {\n",
              "      background-color: #434B5C;\n",
              "      box-shadow: 0px 1px 3px 1px rgba(0, 0, 0, 0.15);\n",
              "      filter: drop-shadow(0px 1px 2px rgba(0, 0, 0, 0.3));\n",
              "      fill: #FFFFFF;\n",
              "    }\n",
              "  </style>\n",
              "\n",
              "    <script>\n",
              "      const buttonEl =\n",
              "        document.querySelector('#df-e21030d8-fe9e-4b65-8a3f-d4a769068adb button.colab-df-convert');\n",
              "      buttonEl.style.display =\n",
              "        google.colab.kernel.accessAllowed ? 'block' : 'none';\n",
              "\n",
              "      async function convertToInteractive(key) {\n",
              "        const element = document.querySelector('#df-e21030d8-fe9e-4b65-8a3f-d4a769068adb');\n",
              "        const dataTable =\n",
              "          await google.colab.kernel.invokeFunction('convertToInteractive',\n",
              "                                                    [key], {});\n",
              "        if (!dataTable) return;\n",
              "\n",
              "        const docLinkHtml = 'Like what you see? Visit the ' +\n",
              "          '<a target=\"_blank\" href=https://colab.research.google.com/notebooks/data_table.ipynb>data table notebook</a>'\n",
              "          + ' to learn more about interactive tables.';\n",
              "        element.innerHTML = '';\n",
              "        dataTable['output_type'] = 'display_data';\n",
              "        await google.colab.output.renderOutput(dataTable, element);\n",
              "        const docLink = document.createElement('div');\n",
              "        docLink.innerHTML = docLinkHtml;\n",
              "        element.appendChild(docLink);\n",
              "      }\n",
              "    </script>\n",
              "  </div>\n",
              "\n",
              "\n",
              "<div id=\"df-4a42dba3-9ddb-483a-88ef-14a10414e1b2\">\n",
              "  <button class=\"colab-df-quickchart\" onclick=\"quickchart('df-4a42dba3-9ddb-483a-88ef-14a10414e1b2')\"\n",
              "            title=\"Suggest charts\"\n",
              "            style=\"display:none;\">\n",
              "\n",
              "<svg xmlns=\"http://www.w3.org/2000/svg\" height=\"24px\"viewBox=\"0 0 24 24\"\n",
              "     width=\"24px\">\n",
              "    <g>\n",
              "        <path d=\"M19 3H5c-1.1 0-2 .9-2 2v14c0 1.1.9 2 2 2h14c1.1 0 2-.9 2-2V5c0-1.1-.9-2-2-2zM9 17H7v-7h2v7zm4 0h-2V7h2v10zm4 0h-2v-4h2v4z\"/>\n",
              "    </g>\n",
              "</svg>\n",
              "  </button>\n",
              "\n",
              "<style>\n",
              "  .colab-df-quickchart {\n",
              "      --bg-color: #E8F0FE;\n",
              "      --fill-color: #1967D2;\n",
              "      --hover-bg-color: #E2EBFA;\n",
              "      --hover-fill-color: #174EA6;\n",
              "      --disabled-fill-color: #AAA;\n",
              "      --disabled-bg-color: #DDD;\n",
              "  }\n",
              "\n",
              "  [theme=dark] .colab-df-quickchart {\n",
              "      --bg-color: #3B4455;\n",
              "      --fill-color: #D2E3FC;\n",
              "      --hover-bg-color: #434B5C;\n",
              "      --hover-fill-color: #FFFFFF;\n",
              "      --disabled-bg-color: #3B4455;\n",
              "      --disabled-fill-color: #666;\n",
              "  }\n",
              "\n",
              "  .colab-df-quickchart {\n",
              "    background-color: var(--bg-color);\n",
              "    border: none;\n",
              "    border-radius: 50%;\n",
              "    cursor: pointer;\n",
              "    display: none;\n",
              "    fill: var(--fill-color);\n",
              "    height: 32px;\n",
              "    padding: 0;\n",
              "    width: 32px;\n",
              "  }\n",
              "\n",
              "  .colab-df-quickchart:hover {\n",
              "    background-color: var(--hover-bg-color);\n",
              "    box-shadow: 0 1px 2px rgba(60, 64, 67, 0.3), 0 1px 3px 1px rgba(60, 64, 67, 0.15);\n",
              "    fill: var(--button-hover-fill-color);\n",
              "  }\n",
              "\n",
              "  .colab-df-quickchart-complete:disabled,\n",
              "  .colab-df-quickchart-complete:disabled:hover {\n",
              "    background-color: var(--disabled-bg-color);\n",
              "    fill: var(--disabled-fill-color);\n",
              "    box-shadow: none;\n",
              "  }\n",
              "\n",
              "  .colab-df-spinner {\n",
              "    border: 2px solid var(--fill-color);\n",
              "    border-color: transparent;\n",
              "    border-bottom-color: var(--fill-color);\n",
              "    animation:\n",
              "      spin 1s steps(1) infinite;\n",
              "  }\n",
              "\n",
              "  @keyframes spin {\n",
              "    0% {\n",
              "      border-color: transparent;\n",
              "      border-bottom-color: var(--fill-color);\n",
              "      border-left-color: var(--fill-color);\n",
              "    }\n",
              "    20% {\n",
              "      border-color: transparent;\n",
              "      border-left-color: var(--fill-color);\n",
              "      border-top-color: var(--fill-color);\n",
              "    }\n",
              "    30% {\n",
              "      border-color: transparent;\n",
              "      border-left-color: var(--fill-color);\n",
              "      border-top-color: var(--fill-color);\n",
              "      border-right-color: var(--fill-color);\n",
              "    }\n",
              "    40% {\n",
              "      border-color: transparent;\n",
              "      border-right-color: var(--fill-color);\n",
              "      border-top-color: var(--fill-color);\n",
              "    }\n",
              "    60% {\n",
              "      border-color: transparent;\n",
              "      border-right-color: var(--fill-color);\n",
              "    }\n",
              "    80% {\n",
              "      border-color: transparent;\n",
              "      border-right-color: var(--fill-color);\n",
              "      border-bottom-color: var(--fill-color);\n",
              "    }\n",
              "    90% {\n",
              "      border-color: transparent;\n",
              "      border-bottom-color: var(--fill-color);\n",
              "    }\n",
              "  }\n",
              "</style>\n",
              "\n",
              "  <script>\n",
              "    async function quickchart(key) {\n",
              "      const quickchartButtonEl =\n",
              "        document.querySelector('#' + key + ' button');\n",
              "      quickchartButtonEl.disabled = true;  // To prevent multiple clicks.\n",
              "      quickchartButtonEl.classList.add('colab-df-spinner');\n",
              "      try {\n",
              "        const charts = await google.colab.kernel.invokeFunction(\n",
              "            'suggestCharts', [key], {});\n",
              "      } catch (error) {\n",
              "        console.error('Error during call to suggestCharts:', error);\n",
              "      }\n",
              "      quickchartButtonEl.classList.remove('colab-df-spinner');\n",
              "      quickchartButtonEl.classList.add('colab-df-quickchart-complete');\n",
              "    }\n",
              "    (() => {\n",
              "      let quickchartButtonEl =\n",
              "        document.querySelector('#df-4a42dba3-9ddb-483a-88ef-14a10414e1b2 button');\n",
              "      quickchartButtonEl.style.display =\n",
              "        google.colab.kernel.accessAllowed ? 'block' : 'none';\n",
              "    })();\n",
              "  </script>\n",
              "</div>\n",
              "\n",
              "    </div>\n",
              "  </div>\n"
            ],
            "application/vnd.google.colaboratory.intrinsic+json": {
              "type": "dataframe",
              "summary": "{\n  \"name\": \"df\",\n  \"rows\": 5,\n  \"fields\": [\n    {\n      \"column\": \"PassengerId\",\n      \"properties\": {\n        \"dtype\": \"number\",\n        \"std\": 156,\n        \"min\": 252,\n        \"max\": 608,\n        \"num_unique_values\": 5,\n        \"samples\": [\n          608,\n          331,\n          574\n        ],\n        \"semantic_type\": \"\",\n        \"description\": \"\"\n      }\n    },\n    {\n      \"column\": \"Survived\",\n      \"properties\": {\n        \"dtype\": \"number\",\n        \"std\": 0,\n        \"min\": 0,\n        \"max\": 1,\n        \"num_unique_values\": 2,\n        \"samples\": [\n          1,\n          0\n        ],\n        \"semantic_type\": \"\",\n        \"description\": \"\"\n      }\n    },\n    {\n      \"column\": \"Pclass\",\n      \"properties\": {\n        \"dtype\": \"number\",\n        \"std\": 0,\n        \"min\": 1,\n        \"max\": 3,\n        \"num_unique_values\": 2,\n        \"samples\": [\n          1,\n          3\n        ],\n        \"semantic_type\": \"\",\n        \"description\": \"\"\n      }\n    },\n    {\n      \"column\": \"Name\",\n      \"properties\": {\n        \"dtype\": \"string\",\n        \"num_unique_values\": 5,\n        \"samples\": [\n          \"Daniel, Mr. Robert Williams\",\n          \"McCoy, Miss. Agnes\"\n        ],\n        \"semantic_type\": \"\",\n        \"description\": \"\"\n      }\n    },\n    {\n      \"column\": \"Sex\",\n      \"properties\": {\n        \"dtype\": \"category\",\n        \"num_unique_values\": 2,\n        \"samples\": [\n          \"female\",\n          \"male\"\n        ],\n        \"semantic_type\": \"\",\n        \"description\": \"\"\n      }\n    },\n    {\n      \"column\": \"Age\",\n      \"properties\": {\n        \"dtype\": \"number\",\n        \"std\": 7.0,\n        \"min\": 27.0,\n        \"max\": 40.0,\n        \"num_unique_values\": 3,\n        \"samples\": [\n          40.0,\n          27.0\n        ],\n        \"semantic_type\": \"\",\n        \"description\": \"\"\n      }\n    },\n    {\n      \"column\": \"SibSp\",\n      \"properties\": {\n        \"dtype\": \"number\",\n        \"std\": 0,\n        \"min\": 0,\n        \"max\": 2,\n        \"num_unique_values\": 3,\n        \"samples\": [\n          1,\n          0\n        ],\n        \"semantic_type\": \"\",\n        \"description\": \"\"\n      }\n    },\n    {\n      \"column\": \"Parch\",\n      \"properties\": {\n        \"dtype\": \"number\",\n        \"std\": 1,\n        \"min\": 0,\n        \"max\": 4,\n        \"num_unique_values\": 3,\n        \"samples\": [\n          4,\n          0\n        ],\n        \"semantic_type\": \"\",\n        \"description\": \"\"\n      }\n    },\n    {\n      \"column\": \"Ticket\",\n      \"properties\": {\n        \"dtype\": \"string\",\n        \"num_unique_values\": 5,\n        \"samples\": [\n          \"113804\",\n          \"367226\"\n        ],\n        \"semantic_type\": \"\",\n        \"description\": \"\"\n      }\n    },\n    {\n      \"column\": \"Fare\",\n      \"properties\": {\n        \"dtype\": \"number\",\n        \"std\": 10.298605791562274,\n        \"min\": 7.75,\n        \"max\": 30.5,\n        \"num_unique_values\": 5,\n        \"samples\": [\n          30.5,\n          23.25\n        ],\n        \"semantic_type\": \"\",\n        \"description\": \"\"\n      }\n    },\n    {\n      \"column\": \"Cabin\",\n      \"properties\": {\n        \"dtype\": \"category\",\n        \"num_unique_values\": 1,\n        \"samples\": [\n          \"G6\"\n        ],\n        \"semantic_type\": \"\",\n        \"description\": \"\"\n      }\n    },\n    {\n      \"column\": \"Embarked\",\n      \"properties\": {\n        \"dtype\": \"category\",\n        \"num_unique_values\": 2,\n        \"samples\": [\n          \"Q\"\n        ],\n        \"semantic_type\": \"\",\n        \"description\": \"\"\n      }\n    }\n  ]\n}"
            }
          },
          "metadata": {},
          "execution_count": 5
        }
      ]
    },
    {
      "cell_type": "markdown",
      "source": [
        "## 3. What is data type of columns"
      ],
      "metadata": {
        "id": "B276QlZO42Vn"
      }
    },
    {
      "cell_type": "code",
      "source": [
        "df.info()"
      ],
      "metadata": {
        "colab": {
          "base_uri": "https://localhost:8080/"
        },
        "id": "BqzPfGyx4zYZ",
        "outputId": "f1f7da86-bdf2-4a82-c43a-1199756cfa82"
      },
      "execution_count": 6,
      "outputs": [
        {
          "output_type": "stream",
          "name": "stdout",
          "text": [
            "<class 'pandas.core.frame.DataFrame'>\n",
            "RangeIndex: 891 entries, 0 to 890\n",
            "Data columns (total 12 columns):\n",
            " #   Column       Non-Null Count  Dtype  \n",
            "---  ------       --------------  -----  \n",
            " 0   PassengerId  891 non-null    int64  \n",
            " 1   Survived     891 non-null    int64  \n",
            " 2   Pclass       891 non-null    int64  \n",
            " 3   Name         891 non-null    object \n",
            " 4   Sex          891 non-null    object \n",
            " 5   Age          714 non-null    float64\n",
            " 6   SibSp        891 non-null    int64  \n",
            " 7   Parch        891 non-null    int64  \n",
            " 8   Ticket       891 non-null    object \n",
            " 9   Fare         891 non-null    float64\n",
            " 10  Cabin        204 non-null    object \n",
            " 11  Embarked     889 non-null    object \n",
            "dtypes: float64(2), int64(5), object(5)\n",
            "memory usage: 83.7+ KB\n"
          ]
        }
      ]
    },
    {
      "cell_type": "markdown",
      "source": [
        "##4. Are there any missing values"
      ],
      "metadata": {
        "id": "43ncMvBh5N2x"
      }
    },
    {
      "cell_type": "code",
      "source": [
        "df.isnull().sum()"
      ],
      "metadata": {
        "colab": {
          "base_uri": "https://localhost:8080/"
        },
        "id": "jxIcL0Cn5B-W",
        "outputId": "e51ead4d-1477-4b8c-b14a-ef45985e912d"
      },
      "execution_count": 7,
      "outputs": [
        {
          "output_type": "execute_result",
          "data": {
            "text/plain": [
              "PassengerId      0\n",
              "Survived         0\n",
              "Pclass           0\n",
              "Name             0\n",
              "Sex              0\n",
              "Age            177\n",
              "SibSp            0\n",
              "Parch            0\n",
              "Ticket           0\n",
              "Fare             0\n",
              "Cabin          687\n",
              "Embarked         2\n",
              "dtype: int64"
            ]
          },
          "metadata": {},
          "execution_count": 7
        }
      ]
    },
    {
      "cell_type": "markdown",
      "source": [
        "##5. How does the data look mathematically"
      ],
      "metadata": {
        "id": "z-TdVptK5hQB"
      }
    },
    {
      "cell_type": "code",
      "source": [
        "df.describe()  #getting mathematical insights for numerical values"
      ],
      "metadata": {
        "colab": {
          "base_uri": "https://localhost:8080/",
          "height": 300
        },
        "id": "2W0hBsko5bBC",
        "outputId": "d33c106d-7127-4b6e-9785-520bfeff03fe"
      },
      "execution_count": 8,
      "outputs": [
        {
          "output_type": "execute_result",
          "data": {
            "text/plain": [
              "       PassengerId    Survived      Pclass         Age       SibSp  \\\n",
              "count   891.000000  891.000000  891.000000  714.000000  891.000000   \n",
              "mean    446.000000    0.383838    2.308642   29.699118    0.523008   \n",
              "std     257.353842    0.486592    0.836071   14.526497    1.102743   \n",
              "min       1.000000    0.000000    1.000000    0.420000    0.000000   \n",
              "25%     223.500000    0.000000    2.000000   20.125000    0.000000   \n",
              "50%     446.000000    0.000000    3.000000   28.000000    0.000000   \n",
              "75%     668.500000    1.000000    3.000000   38.000000    1.000000   \n",
              "max     891.000000    1.000000    3.000000   80.000000    8.000000   \n",
              "\n",
              "            Parch        Fare  \n",
              "count  891.000000  891.000000  \n",
              "mean     0.381594   32.204208  \n",
              "std      0.806057   49.693429  \n",
              "min      0.000000    0.000000  \n",
              "25%      0.000000    7.910400  \n",
              "50%      0.000000   14.454200  \n",
              "75%      0.000000   31.000000  \n",
              "max      6.000000  512.329200  "
            ],
            "text/html": [
              "\n",
              "  <div id=\"df-8284588a-6a62-427c-a6a9-8f6522b783bf\" class=\"colab-df-container\">\n",
              "    <div>\n",
              "<style scoped>\n",
              "    .dataframe tbody tr th:only-of-type {\n",
              "        vertical-align: middle;\n",
              "    }\n",
              "\n",
              "    .dataframe tbody tr th {\n",
              "        vertical-align: top;\n",
              "    }\n",
              "\n",
              "    .dataframe thead th {\n",
              "        text-align: right;\n",
              "    }\n",
              "</style>\n",
              "<table border=\"1\" class=\"dataframe\">\n",
              "  <thead>\n",
              "    <tr style=\"text-align: right;\">\n",
              "      <th></th>\n",
              "      <th>PassengerId</th>\n",
              "      <th>Survived</th>\n",
              "      <th>Pclass</th>\n",
              "      <th>Age</th>\n",
              "      <th>SibSp</th>\n",
              "      <th>Parch</th>\n",
              "      <th>Fare</th>\n",
              "    </tr>\n",
              "  </thead>\n",
              "  <tbody>\n",
              "    <tr>\n",
              "      <th>count</th>\n",
              "      <td>891.000000</td>\n",
              "      <td>891.000000</td>\n",
              "      <td>891.000000</td>\n",
              "      <td>714.000000</td>\n",
              "      <td>891.000000</td>\n",
              "      <td>891.000000</td>\n",
              "      <td>891.000000</td>\n",
              "    </tr>\n",
              "    <tr>\n",
              "      <th>mean</th>\n",
              "      <td>446.000000</td>\n",
              "      <td>0.383838</td>\n",
              "      <td>2.308642</td>\n",
              "      <td>29.699118</td>\n",
              "      <td>0.523008</td>\n",
              "      <td>0.381594</td>\n",
              "      <td>32.204208</td>\n",
              "    </tr>\n",
              "    <tr>\n",
              "      <th>std</th>\n",
              "      <td>257.353842</td>\n",
              "      <td>0.486592</td>\n",
              "      <td>0.836071</td>\n",
              "      <td>14.526497</td>\n",
              "      <td>1.102743</td>\n",
              "      <td>0.806057</td>\n",
              "      <td>49.693429</td>\n",
              "    </tr>\n",
              "    <tr>\n",
              "      <th>min</th>\n",
              "      <td>1.000000</td>\n",
              "      <td>0.000000</td>\n",
              "      <td>1.000000</td>\n",
              "      <td>0.420000</td>\n",
              "      <td>0.000000</td>\n",
              "      <td>0.000000</td>\n",
              "      <td>0.000000</td>\n",
              "    </tr>\n",
              "    <tr>\n",
              "      <th>25%</th>\n",
              "      <td>223.500000</td>\n",
              "      <td>0.000000</td>\n",
              "      <td>2.000000</td>\n",
              "      <td>20.125000</td>\n",
              "      <td>0.000000</td>\n",
              "      <td>0.000000</td>\n",
              "      <td>7.910400</td>\n",
              "    </tr>\n",
              "    <tr>\n",
              "      <th>50%</th>\n",
              "      <td>446.000000</td>\n",
              "      <td>0.000000</td>\n",
              "      <td>3.000000</td>\n",
              "      <td>28.000000</td>\n",
              "      <td>0.000000</td>\n",
              "      <td>0.000000</td>\n",
              "      <td>14.454200</td>\n",
              "    </tr>\n",
              "    <tr>\n",
              "      <th>75%</th>\n",
              "      <td>668.500000</td>\n",
              "      <td>1.000000</td>\n",
              "      <td>3.000000</td>\n",
              "      <td>38.000000</td>\n",
              "      <td>1.000000</td>\n",
              "      <td>0.000000</td>\n",
              "      <td>31.000000</td>\n",
              "    </tr>\n",
              "    <tr>\n",
              "      <th>max</th>\n",
              "      <td>891.000000</td>\n",
              "      <td>1.000000</td>\n",
              "      <td>3.000000</td>\n",
              "      <td>80.000000</td>\n",
              "      <td>8.000000</td>\n",
              "      <td>6.000000</td>\n",
              "      <td>512.329200</td>\n",
              "    </tr>\n",
              "  </tbody>\n",
              "</table>\n",
              "</div>\n",
              "    <div class=\"colab-df-buttons\">\n",
              "\n",
              "  <div class=\"colab-df-container\">\n",
              "    <button class=\"colab-df-convert\" onclick=\"convertToInteractive('df-8284588a-6a62-427c-a6a9-8f6522b783bf')\"\n",
              "            title=\"Convert this dataframe to an interactive table.\"\n",
              "            style=\"display:none;\">\n",
              "\n",
              "  <svg xmlns=\"http://www.w3.org/2000/svg\" height=\"24px\" viewBox=\"0 -960 960 960\">\n",
              "    <path d=\"M120-120v-720h720v720H120Zm60-500h600v-160H180v160Zm220 220h160v-160H400v160Zm0 220h160v-160H400v160ZM180-400h160v-160H180v160Zm440 0h160v-160H620v160ZM180-180h160v-160H180v160Zm440 0h160v-160H620v160Z\"/>\n",
              "  </svg>\n",
              "    </button>\n",
              "\n",
              "  <style>\n",
              "    .colab-df-container {\n",
              "      display:flex;\n",
              "      gap: 12px;\n",
              "    }\n",
              "\n",
              "    .colab-df-convert {\n",
              "      background-color: #E8F0FE;\n",
              "      border: none;\n",
              "      border-radius: 50%;\n",
              "      cursor: pointer;\n",
              "      display: none;\n",
              "      fill: #1967D2;\n",
              "      height: 32px;\n",
              "      padding: 0 0 0 0;\n",
              "      width: 32px;\n",
              "    }\n",
              "\n",
              "    .colab-df-convert:hover {\n",
              "      background-color: #E2EBFA;\n",
              "      box-shadow: 0px 1px 2px rgba(60, 64, 67, 0.3), 0px 1px 3px 1px rgba(60, 64, 67, 0.15);\n",
              "      fill: #174EA6;\n",
              "    }\n",
              "\n",
              "    .colab-df-buttons div {\n",
              "      margin-bottom: 4px;\n",
              "    }\n",
              "\n",
              "    [theme=dark] .colab-df-convert {\n",
              "      background-color: #3B4455;\n",
              "      fill: #D2E3FC;\n",
              "    }\n",
              "\n",
              "    [theme=dark] .colab-df-convert:hover {\n",
              "      background-color: #434B5C;\n",
              "      box-shadow: 0px 1px 3px 1px rgba(0, 0, 0, 0.15);\n",
              "      filter: drop-shadow(0px 1px 2px rgba(0, 0, 0, 0.3));\n",
              "      fill: #FFFFFF;\n",
              "    }\n",
              "  </style>\n",
              "\n",
              "    <script>\n",
              "      const buttonEl =\n",
              "        document.querySelector('#df-8284588a-6a62-427c-a6a9-8f6522b783bf button.colab-df-convert');\n",
              "      buttonEl.style.display =\n",
              "        google.colab.kernel.accessAllowed ? 'block' : 'none';\n",
              "\n",
              "      async function convertToInteractive(key) {\n",
              "        const element = document.querySelector('#df-8284588a-6a62-427c-a6a9-8f6522b783bf');\n",
              "        const dataTable =\n",
              "          await google.colab.kernel.invokeFunction('convertToInteractive',\n",
              "                                                    [key], {});\n",
              "        if (!dataTable) return;\n",
              "\n",
              "        const docLinkHtml = 'Like what you see? Visit the ' +\n",
              "          '<a target=\"_blank\" href=https://colab.research.google.com/notebooks/data_table.ipynb>data table notebook</a>'\n",
              "          + ' to learn more about interactive tables.';\n",
              "        element.innerHTML = '';\n",
              "        dataTable['output_type'] = 'display_data';\n",
              "        await google.colab.output.renderOutput(dataTable, element);\n",
              "        const docLink = document.createElement('div');\n",
              "        docLink.innerHTML = docLinkHtml;\n",
              "        element.appendChild(docLink);\n",
              "      }\n",
              "    </script>\n",
              "  </div>\n",
              "\n",
              "\n",
              "<div id=\"df-733aba5a-2464-4eca-87e5-9ea211f55611\">\n",
              "  <button class=\"colab-df-quickchart\" onclick=\"quickchart('df-733aba5a-2464-4eca-87e5-9ea211f55611')\"\n",
              "            title=\"Suggest charts\"\n",
              "            style=\"display:none;\">\n",
              "\n",
              "<svg xmlns=\"http://www.w3.org/2000/svg\" height=\"24px\"viewBox=\"0 0 24 24\"\n",
              "     width=\"24px\">\n",
              "    <g>\n",
              "        <path d=\"M19 3H5c-1.1 0-2 .9-2 2v14c0 1.1.9 2 2 2h14c1.1 0 2-.9 2-2V5c0-1.1-.9-2-2-2zM9 17H7v-7h2v7zm4 0h-2V7h2v10zm4 0h-2v-4h2v4z\"/>\n",
              "    </g>\n",
              "</svg>\n",
              "  </button>\n",
              "\n",
              "<style>\n",
              "  .colab-df-quickchart {\n",
              "      --bg-color: #E8F0FE;\n",
              "      --fill-color: #1967D2;\n",
              "      --hover-bg-color: #E2EBFA;\n",
              "      --hover-fill-color: #174EA6;\n",
              "      --disabled-fill-color: #AAA;\n",
              "      --disabled-bg-color: #DDD;\n",
              "  }\n",
              "\n",
              "  [theme=dark] .colab-df-quickchart {\n",
              "      --bg-color: #3B4455;\n",
              "      --fill-color: #D2E3FC;\n",
              "      --hover-bg-color: #434B5C;\n",
              "      --hover-fill-color: #FFFFFF;\n",
              "      --disabled-bg-color: #3B4455;\n",
              "      --disabled-fill-color: #666;\n",
              "  }\n",
              "\n",
              "  .colab-df-quickchart {\n",
              "    background-color: var(--bg-color);\n",
              "    border: none;\n",
              "    border-radius: 50%;\n",
              "    cursor: pointer;\n",
              "    display: none;\n",
              "    fill: var(--fill-color);\n",
              "    height: 32px;\n",
              "    padding: 0;\n",
              "    width: 32px;\n",
              "  }\n",
              "\n",
              "  .colab-df-quickchart:hover {\n",
              "    background-color: var(--hover-bg-color);\n",
              "    box-shadow: 0 1px 2px rgba(60, 64, 67, 0.3), 0 1px 3px 1px rgba(60, 64, 67, 0.15);\n",
              "    fill: var(--button-hover-fill-color);\n",
              "  }\n",
              "\n",
              "  .colab-df-quickchart-complete:disabled,\n",
              "  .colab-df-quickchart-complete:disabled:hover {\n",
              "    background-color: var(--disabled-bg-color);\n",
              "    fill: var(--disabled-fill-color);\n",
              "    box-shadow: none;\n",
              "  }\n",
              "\n",
              "  .colab-df-spinner {\n",
              "    border: 2px solid var(--fill-color);\n",
              "    border-color: transparent;\n",
              "    border-bottom-color: var(--fill-color);\n",
              "    animation:\n",
              "      spin 1s steps(1) infinite;\n",
              "  }\n",
              "\n",
              "  @keyframes spin {\n",
              "    0% {\n",
              "      border-color: transparent;\n",
              "      border-bottom-color: var(--fill-color);\n",
              "      border-left-color: var(--fill-color);\n",
              "    }\n",
              "    20% {\n",
              "      border-color: transparent;\n",
              "      border-left-color: var(--fill-color);\n",
              "      border-top-color: var(--fill-color);\n",
              "    }\n",
              "    30% {\n",
              "      border-color: transparent;\n",
              "      border-left-color: var(--fill-color);\n",
              "      border-top-color: var(--fill-color);\n",
              "      border-right-color: var(--fill-color);\n",
              "    }\n",
              "    40% {\n",
              "      border-color: transparent;\n",
              "      border-right-color: var(--fill-color);\n",
              "      border-top-color: var(--fill-color);\n",
              "    }\n",
              "    60% {\n",
              "      border-color: transparent;\n",
              "      border-right-color: var(--fill-color);\n",
              "    }\n",
              "    80% {\n",
              "      border-color: transparent;\n",
              "      border-right-color: var(--fill-color);\n",
              "      border-bottom-color: var(--fill-color);\n",
              "    }\n",
              "    90% {\n",
              "      border-color: transparent;\n",
              "      border-bottom-color: var(--fill-color);\n",
              "    }\n",
              "  }\n",
              "</style>\n",
              "\n",
              "  <script>\n",
              "    async function quickchart(key) {\n",
              "      const quickchartButtonEl =\n",
              "        document.querySelector('#' + key + ' button');\n",
              "      quickchartButtonEl.disabled = true;  // To prevent multiple clicks.\n",
              "      quickchartButtonEl.classList.add('colab-df-spinner');\n",
              "      try {\n",
              "        const charts = await google.colab.kernel.invokeFunction(\n",
              "            'suggestCharts', [key], {});\n",
              "      } catch (error) {\n",
              "        console.error('Error during call to suggestCharts:', error);\n",
              "      }\n",
              "      quickchartButtonEl.classList.remove('colab-df-spinner');\n",
              "      quickchartButtonEl.classList.add('colab-df-quickchart-complete');\n",
              "    }\n",
              "    (() => {\n",
              "      let quickchartButtonEl =\n",
              "        document.querySelector('#df-733aba5a-2464-4eca-87e5-9ea211f55611 button');\n",
              "      quickchartButtonEl.style.display =\n",
              "        google.colab.kernel.accessAllowed ? 'block' : 'none';\n",
              "    })();\n",
              "  </script>\n",
              "</div>\n",
              "\n",
              "    </div>\n",
              "  </div>\n"
            ],
            "application/vnd.google.colaboratory.intrinsic+json": {
              "type": "dataframe",
              "summary": "{\n  \"name\": \"df\",\n  \"rows\": 8,\n  \"fields\": [\n    {\n      \"column\": \"PassengerId\",\n      \"properties\": {\n        \"dtype\": \"number\",\n        \"std\": 320.8159711429855,\n        \"min\": 1.0,\n        \"max\": 891.0,\n        \"num_unique_values\": 6,\n        \"samples\": [\n          891.0,\n          446.0,\n          668.5\n        ],\n        \"semantic_type\": \"\",\n        \"description\": \"\"\n      }\n    },\n    {\n      \"column\": \"Survived\",\n      \"properties\": {\n        \"dtype\": \"number\",\n        \"std\": 314.8713661874558,\n        \"min\": 0.0,\n        \"max\": 891.0,\n        \"num_unique_values\": 5,\n        \"samples\": [\n          0.3838383838383838,\n          1.0,\n          0.4865924542648575\n        ],\n        \"semantic_type\": \"\",\n        \"description\": \"\"\n      }\n    },\n    {\n      \"column\": \"Pclass\",\n      \"properties\": {\n        \"dtype\": \"number\",\n        \"std\": 314.2523437079694,\n        \"min\": 0.836071240977049,\n        \"max\": 891.0,\n        \"num_unique_values\": 6,\n        \"samples\": [\n          891.0,\n          2.308641975308642,\n          3.0\n        ],\n        \"semantic_type\": \"\",\n        \"description\": \"\"\n      }\n    },\n    {\n      \"column\": \"Age\",\n      \"properties\": {\n        \"dtype\": \"number\",\n        \"std\": 242.9056731818781,\n        \"min\": 0.42,\n        \"max\": 714.0,\n        \"num_unique_values\": 8,\n        \"samples\": [\n          29.69911764705882,\n          28.0,\n          714.0\n        ],\n        \"semantic_type\": \"\",\n        \"description\": \"\"\n      }\n    },\n    {\n      \"column\": \"SibSp\",\n      \"properties\": {\n        \"dtype\": \"number\",\n        \"std\": 314.4908277465442,\n        \"min\": 0.0,\n        \"max\": 891.0,\n        \"num_unique_values\": 6,\n        \"samples\": [\n          891.0,\n          0.5230078563411896,\n          8.0\n        ],\n        \"semantic_type\": \"\",\n        \"description\": \"\"\n      }\n    },\n    {\n      \"column\": \"Parch\",\n      \"properties\": {\n        \"dtype\": \"number\",\n        \"std\": 314.65971717879,\n        \"min\": 0.0,\n        \"max\": 891.0,\n        \"num_unique_values\": 5,\n        \"samples\": [\n          0.38159371492704824,\n          6.0,\n          0.8060572211299483\n        ],\n        \"semantic_type\": \"\",\n        \"description\": \"\"\n      }\n    },\n    {\n      \"column\": \"Fare\",\n      \"properties\": {\n        \"dtype\": \"number\",\n        \"std\": 330.6256632228578,\n        \"min\": 0.0,\n        \"max\": 891.0,\n        \"num_unique_values\": 8,\n        \"samples\": [\n          32.204207968574636,\n          14.4542,\n          891.0\n        ],\n        \"semantic_type\": \"\",\n        \"description\": \"\"\n      }\n    }\n  ]\n}"
            }
          },
          "metadata": {},
          "execution_count": 8
        }
      ]
    },
    {
      "cell_type": "markdown",
      "source": [
        "## 6. Are there duplicate values"
      ],
      "metadata": {
        "id": "HizcmJSm5w2b"
      }
    },
    {
      "cell_type": "code",
      "source": [
        "df.duplicated().sum()"
      ],
      "metadata": {
        "colab": {
          "base_uri": "https://localhost:8080/"
        },
        "id": "exSY8Y7H5m_0",
        "outputId": "c784b3f4-e4ee-4553-ade7-3e7bb63e342b"
      },
      "execution_count": 9,
      "outputs": [
        {
          "output_type": "execute_result",
          "data": {
            "text/plain": [
              "0"
            ]
          },
          "metadata": {},
          "execution_count": 9
        }
      ]
    },
    {
      "cell_type": "markdown",
      "source": [
        "## 7. How is the correlation between columns"
      ],
      "metadata": {
        "id": "-lpr7apq55lR"
      }
    },
    {
      "cell_type": "code",
      "source": [
        "df.corr()"
      ],
      "metadata": {
        "colab": {
          "base_uri": "https://localhost:8080/",
          "height": 298
        },
        "id": "cETioJVT54J7",
        "outputId": "323f2950-92a8-47ed-d6db-44e6d4ed1714"
      },
      "execution_count": 10,
      "outputs": [
        {
          "output_type": "error",
          "ename": "ValueError",
          "evalue": "could not convert string to float: 'Braund, Mr. Owen Harris'",
          "traceback": [
            "\u001b[0;31m---------------------------------------------------------------------------\u001b[0m",
            "\u001b[0;31mValueError\u001b[0m                                Traceback (most recent call last)",
            "\u001b[0;32m<ipython-input-10-2f6f6606aa2c>\u001b[0m in \u001b[0;36m<cell line: 1>\u001b[0;34m()\u001b[0m\n\u001b[0;32m----> 1\u001b[0;31m \u001b[0mdf\u001b[0m\u001b[0;34m.\u001b[0m\u001b[0mcorr\u001b[0m\u001b[0;34m(\u001b[0m\u001b[0;34m)\u001b[0m\u001b[0;34m\u001b[0m\u001b[0;34m\u001b[0m\u001b[0m\n\u001b[0m",
            "\u001b[0;32m/usr/local/lib/python3.10/dist-packages/pandas/core/frame.py\u001b[0m in \u001b[0;36mcorr\u001b[0;34m(self, method, min_periods, numeric_only)\u001b[0m\n\u001b[1;32m  10052\u001b[0m         \u001b[0mcols\u001b[0m \u001b[0;34m=\u001b[0m \u001b[0mdata\u001b[0m\u001b[0;34m.\u001b[0m\u001b[0mcolumns\u001b[0m\u001b[0;34m\u001b[0m\u001b[0;34m\u001b[0m\u001b[0m\n\u001b[1;32m  10053\u001b[0m         \u001b[0midx\u001b[0m \u001b[0;34m=\u001b[0m \u001b[0mcols\u001b[0m\u001b[0;34m.\u001b[0m\u001b[0mcopy\u001b[0m\u001b[0;34m(\u001b[0m\u001b[0;34m)\u001b[0m\u001b[0;34m\u001b[0m\u001b[0;34m\u001b[0m\u001b[0m\n\u001b[0;32m> 10054\u001b[0;31m         \u001b[0mmat\u001b[0m \u001b[0;34m=\u001b[0m \u001b[0mdata\u001b[0m\u001b[0;34m.\u001b[0m\u001b[0mto_numpy\u001b[0m\u001b[0;34m(\u001b[0m\u001b[0mdtype\u001b[0m\u001b[0;34m=\u001b[0m\u001b[0mfloat\u001b[0m\u001b[0;34m,\u001b[0m \u001b[0mna_value\u001b[0m\u001b[0;34m=\u001b[0m\u001b[0mnp\u001b[0m\u001b[0;34m.\u001b[0m\u001b[0mnan\u001b[0m\u001b[0;34m,\u001b[0m \u001b[0mcopy\u001b[0m\u001b[0;34m=\u001b[0m\u001b[0;32mFalse\u001b[0m\u001b[0;34m)\u001b[0m\u001b[0;34m\u001b[0m\u001b[0;34m\u001b[0m\u001b[0m\n\u001b[0m\u001b[1;32m  10055\u001b[0m \u001b[0;34m\u001b[0m\u001b[0m\n\u001b[1;32m  10056\u001b[0m         \u001b[0;32mif\u001b[0m \u001b[0mmethod\u001b[0m \u001b[0;34m==\u001b[0m \u001b[0;34m\"pearson\"\u001b[0m\u001b[0;34m:\u001b[0m\u001b[0;34m\u001b[0m\u001b[0;34m\u001b[0m\u001b[0m\n",
            "\u001b[0;32m/usr/local/lib/python3.10/dist-packages/pandas/core/frame.py\u001b[0m in \u001b[0;36mto_numpy\u001b[0;34m(self, dtype, copy, na_value)\u001b[0m\n\u001b[1;32m   1836\u001b[0m         \u001b[0;32mif\u001b[0m \u001b[0mdtype\u001b[0m \u001b[0;32mis\u001b[0m \u001b[0;32mnot\u001b[0m \u001b[0;32mNone\u001b[0m\u001b[0;34m:\u001b[0m\u001b[0;34m\u001b[0m\u001b[0;34m\u001b[0m\u001b[0m\n\u001b[1;32m   1837\u001b[0m             \u001b[0mdtype\u001b[0m \u001b[0;34m=\u001b[0m \u001b[0mnp\u001b[0m\u001b[0;34m.\u001b[0m\u001b[0mdtype\u001b[0m\u001b[0;34m(\u001b[0m\u001b[0mdtype\u001b[0m\u001b[0;34m)\u001b[0m\u001b[0;34m\u001b[0m\u001b[0;34m\u001b[0m\u001b[0m\n\u001b[0;32m-> 1838\u001b[0;31m         \u001b[0mresult\u001b[0m \u001b[0;34m=\u001b[0m \u001b[0mself\u001b[0m\u001b[0;34m.\u001b[0m\u001b[0m_mgr\u001b[0m\u001b[0;34m.\u001b[0m\u001b[0mas_array\u001b[0m\u001b[0;34m(\u001b[0m\u001b[0mdtype\u001b[0m\u001b[0;34m=\u001b[0m\u001b[0mdtype\u001b[0m\u001b[0;34m,\u001b[0m \u001b[0mcopy\u001b[0m\u001b[0;34m=\u001b[0m\u001b[0mcopy\u001b[0m\u001b[0;34m,\u001b[0m \u001b[0mna_value\u001b[0m\u001b[0;34m=\u001b[0m\u001b[0mna_value\u001b[0m\u001b[0;34m)\u001b[0m\u001b[0;34m\u001b[0m\u001b[0;34m\u001b[0m\u001b[0m\n\u001b[0m\u001b[1;32m   1839\u001b[0m         \u001b[0;32mif\u001b[0m \u001b[0mresult\u001b[0m\u001b[0;34m.\u001b[0m\u001b[0mdtype\u001b[0m \u001b[0;32mis\u001b[0m \u001b[0;32mnot\u001b[0m \u001b[0mdtype\u001b[0m\u001b[0;34m:\u001b[0m\u001b[0;34m\u001b[0m\u001b[0;34m\u001b[0m\u001b[0m\n\u001b[1;32m   1840\u001b[0m             \u001b[0mresult\u001b[0m \u001b[0;34m=\u001b[0m \u001b[0mnp\u001b[0m\u001b[0;34m.\u001b[0m\u001b[0marray\u001b[0m\u001b[0;34m(\u001b[0m\u001b[0mresult\u001b[0m\u001b[0;34m,\u001b[0m \u001b[0mdtype\u001b[0m\u001b[0;34m=\u001b[0m\u001b[0mdtype\u001b[0m\u001b[0;34m,\u001b[0m \u001b[0mcopy\u001b[0m\u001b[0;34m=\u001b[0m\u001b[0;32mFalse\u001b[0m\u001b[0;34m)\u001b[0m\u001b[0;34m\u001b[0m\u001b[0;34m\u001b[0m\u001b[0m\n",
            "\u001b[0;32m/usr/local/lib/python3.10/dist-packages/pandas/core/internals/managers.py\u001b[0m in \u001b[0;36mas_array\u001b[0;34m(self, dtype, copy, na_value)\u001b[0m\n\u001b[1;32m   1730\u001b[0m                 \u001b[0marr\u001b[0m\u001b[0;34m.\u001b[0m\u001b[0mflags\u001b[0m\u001b[0;34m.\u001b[0m\u001b[0mwriteable\u001b[0m \u001b[0;34m=\u001b[0m \u001b[0;32mFalse\u001b[0m\u001b[0;34m\u001b[0m\u001b[0;34m\u001b[0m\u001b[0m\n\u001b[1;32m   1731\u001b[0m         \u001b[0;32melse\u001b[0m\u001b[0;34m:\u001b[0m\u001b[0;34m\u001b[0m\u001b[0;34m\u001b[0m\u001b[0m\n\u001b[0;32m-> 1732\u001b[0;31m             \u001b[0marr\u001b[0m \u001b[0;34m=\u001b[0m \u001b[0mself\u001b[0m\u001b[0;34m.\u001b[0m\u001b[0m_interleave\u001b[0m\u001b[0;34m(\u001b[0m\u001b[0mdtype\u001b[0m\u001b[0;34m=\u001b[0m\u001b[0mdtype\u001b[0m\u001b[0;34m,\u001b[0m \u001b[0mna_value\u001b[0m\u001b[0;34m=\u001b[0m\u001b[0mna_value\u001b[0m\u001b[0;34m)\u001b[0m\u001b[0;34m\u001b[0m\u001b[0;34m\u001b[0m\u001b[0m\n\u001b[0m\u001b[1;32m   1733\u001b[0m             \u001b[0;31m# The underlying data was copied within _interleave, so no need\u001b[0m\u001b[0;34m\u001b[0m\u001b[0;34m\u001b[0m\u001b[0m\n\u001b[1;32m   1734\u001b[0m             \u001b[0;31m# to further copy if copy=True or setting na_value\u001b[0m\u001b[0;34m\u001b[0m\u001b[0;34m\u001b[0m\u001b[0m\n",
            "\u001b[0;32m/usr/local/lib/python3.10/dist-packages/pandas/core/internals/managers.py\u001b[0m in \u001b[0;36m_interleave\u001b[0;34m(self, dtype, na_value)\u001b[0m\n\u001b[1;32m   1792\u001b[0m             \u001b[0;32melse\u001b[0m\u001b[0;34m:\u001b[0m\u001b[0;34m\u001b[0m\u001b[0;34m\u001b[0m\u001b[0m\n\u001b[1;32m   1793\u001b[0m                 \u001b[0marr\u001b[0m \u001b[0;34m=\u001b[0m \u001b[0mblk\u001b[0m\u001b[0;34m.\u001b[0m\u001b[0mget_values\u001b[0m\u001b[0;34m(\u001b[0m\u001b[0mdtype\u001b[0m\u001b[0;34m)\u001b[0m\u001b[0;34m\u001b[0m\u001b[0;34m\u001b[0m\u001b[0m\n\u001b[0;32m-> 1794\u001b[0;31m             \u001b[0mresult\u001b[0m\u001b[0;34m[\u001b[0m\u001b[0mrl\u001b[0m\u001b[0;34m.\u001b[0m\u001b[0mindexer\u001b[0m\u001b[0;34m]\u001b[0m \u001b[0;34m=\u001b[0m \u001b[0marr\u001b[0m\u001b[0;34m\u001b[0m\u001b[0;34m\u001b[0m\u001b[0m\n\u001b[0m\u001b[1;32m   1795\u001b[0m             \u001b[0mitemmask\u001b[0m\u001b[0;34m[\u001b[0m\u001b[0mrl\u001b[0m\u001b[0;34m.\u001b[0m\u001b[0mindexer\u001b[0m\u001b[0;34m]\u001b[0m \u001b[0;34m=\u001b[0m \u001b[0;36m1\u001b[0m\u001b[0;34m\u001b[0m\u001b[0;34m\u001b[0m\u001b[0m\n\u001b[1;32m   1796\u001b[0m \u001b[0;34m\u001b[0m\u001b[0m\n",
            "\u001b[0;31mValueError\u001b[0m: could not convert string to float: 'Braund, Mr. Owen Harris'"
          ]
        }
      ]
    },
    {
      "cell_type": "code",
      "source": [
        "print(df.dtypes)"
      ],
      "metadata": {
        "colab": {
          "base_uri": "https://localhost:8080/"
        },
        "id": "SV1Gto_26EC9",
        "outputId": "f6f9b2f2-1de0-4fdf-f533-2bae4e6fc8b6"
      },
      "execution_count": 11,
      "outputs": [
        {
          "output_type": "stream",
          "name": "stdout",
          "text": [
            "PassengerId      int64\n",
            "Survived         int64\n",
            "Pclass           int64\n",
            "Name            object\n",
            "Sex             object\n",
            "Age            float64\n",
            "SibSp            int64\n",
            "Parch            int64\n",
            "Ticket          object\n",
            "Fare           float64\n",
            "Cabin           object\n",
            "Embarked        object\n",
            "dtype: object\n"
          ]
        }
      ]
    },
    {
      "cell_type": "code",
      "source": [
        "import numpy as np"
      ],
      "metadata": {
        "id": "gA9i_qK-65V1"
      },
      "execution_count": 13,
      "outputs": []
    },
    {
      "cell_type": "code",
      "source": [
        "df_numeric = df.select_dtypes(include=[np.number])\n",
        "correlation = df_numeric.corr()"
      ],
      "metadata": {
        "id": "6jKXypnG6e1H"
      },
      "execution_count": 14,
      "outputs": []
    },
    {
      "cell_type": "code",
      "source": [
        "correlation['Survived']"
      ],
      "metadata": {
        "colab": {
          "base_uri": "https://localhost:8080/"
        },
        "id": "DJQDWvCp6mgK",
        "outputId": "810f8229-37fb-441e-9d27-2e2ab6ecfbb6"
      },
      "execution_count": 18,
      "outputs": [
        {
          "output_type": "execute_result",
          "data": {
            "text/plain": [
              "PassengerId   -0.005007\n",
              "Survived       1.000000\n",
              "Pclass        -0.338481\n",
              "Age           -0.077221\n",
              "SibSp         -0.035322\n",
              "Parch          0.081629\n",
              "Fare           0.257307\n",
              "Name: Survived, dtype: float64"
            ]
          },
          "metadata": {},
          "execution_count": 18
        }
      ]
    },
    {
      "cell_type": "code",
      "source": [
        "df.head()"
      ],
      "metadata": {
        "colab": {
          "base_uri": "https://localhost:8080/",
          "height": 206
        },
        "id": "JmJYgpTy6_fm",
        "outputId": "f5012d99-5900-44dd-ff9c-870bb23078fa"
      },
      "execution_count": 19,
      "outputs": [
        {
          "output_type": "execute_result",
          "data": {
            "text/plain": [
              "   PassengerId  Survived  Pclass  \\\n",
              "0            1         0       3   \n",
              "1            2         1       1   \n",
              "2            3         1       3   \n",
              "3            4         1       1   \n",
              "4            5         0       3   \n",
              "\n",
              "                                                Name     Sex   Age  SibSp  \\\n",
              "0                            Braund, Mr. Owen Harris    male  22.0      1   \n",
              "1  Cumings, Mrs. John Bradley (Florence Briggs Th...  female  38.0      1   \n",
              "2                             Heikkinen, Miss. Laina  female  26.0      0   \n",
              "3       Futrelle, Mrs. Jacques Heath (Lily May Peel)  female  35.0      1   \n",
              "4                           Allen, Mr. William Henry    male  35.0      0   \n",
              "\n",
              "   Parch            Ticket     Fare Cabin Embarked  \n",
              "0      0         A/5 21171   7.2500   NaN        S  \n",
              "1      0          PC 17599  71.2833   C85        C  \n",
              "2      0  STON/O2. 3101282   7.9250   NaN        S  \n",
              "3      0            113803  53.1000  C123        S  \n",
              "4      0            373450   8.0500   NaN        S  "
            ],
            "text/html": [
              "\n",
              "  <div id=\"df-829131dd-35a3-4cd7-bfee-e09f72fb4fa3\" class=\"colab-df-container\">\n",
              "    <div>\n",
              "<style scoped>\n",
              "    .dataframe tbody tr th:only-of-type {\n",
              "        vertical-align: middle;\n",
              "    }\n",
              "\n",
              "    .dataframe tbody tr th {\n",
              "        vertical-align: top;\n",
              "    }\n",
              "\n",
              "    .dataframe thead th {\n",
              "        text-align: right;\n",
              "    }\n",
              "</style>\n",
              "<table border=\"1\" class=\"dataframe\">\n",
              "  <thead>\n",
              "    <tr style=\"text-align: right;\">\n",
              "      <th></th>\n",
              "      <th>PassengerId</th>\n",
              "      <th>Survived</th>\n",
              "      <th>Pclass</th>\n",
              "      <th>Name</th>\n",
              "      <th>Sex</th>\n",
              "      <th>Age</th>\n",
              "      <th>SibSp</th>\n",
              "      <th>Parch</th>\n",
              "      <th>Ticket</th>\n",
              "      <th>Fare</th>\n",
              "      <th>Cabin</th>\n",
              "      <th>Embarked</th>\n",
              "    </tr>\n",
              "  </thead>\n",
              "  <tbody>\n",
              "    <tr>\n",
              "      <th>0</th>\n",
              "      <td>1</td>\n",
              "      <td>0</td>\n",
              "      <td>3</td>\n",
              "      <td>Braund, Mr. Owen Harris</td>\n",
              "      <td>male</td>\n",
              "      <td>22.0</td>\n",
              "      <td>1</td>\n",
              "      <td>0</td>\n",
              "      <td>A/5 21171</td>\n",
              "      <td>7.2500</td>\n",
              "      <td>NaN</td>\n",
              "      <td>S</td>\n",
              "    </tr>\n",
              "    <tr>\n",
              "      <th>1</th>\n",
              "      <td>2</td>\n",
              "      <td>1</td>\n",
              "      <td>1</td>\n",
              "      <td>Cumings, Mrs. John Bradley (Florence Briggs Th...</td>\n",
              "      <td>female</td>\n",
              "      <td>38.0</td>\n",
              "      <td>1</td>\n",
              "      <td>0</td>\n",
              "      <td>PC 17599</td>\n",
              "      <td>71.2833</td>\n",
              "      <td>C85</td>\n",
              "      <td>C</td>\n",
              "    </tr>\n",
              "    <tr>\n",
              "      <th>2</th>\n",
              "      <td>3</td>\n",
              "      <td>1</td>\n",
              "      <td>3</td>\n",
              "      <td>Heikkinen, Miss. Laina</td>\n",
              "      <td>female</td>\n",
              "      <td>26.0</td>\n",
              "      <td>0</td>\n",
              "      <td>0</td>\n",
              "      <td>STON/O2. 3101282</td>\n",
              "      <td>7.9250</td>\n",
              "      <td>NaN</td>\n",
              "      <td>S</td>\n",
              "    </tr>\n",
              "    <tr>\n",
              "      <th>3</th>\n",
              "      <td>4</td>\n",
              "      <td>1</td>\n",
              "      <td>1</td>\n",
              "      <td>Futrelle, Mrs. Jacques Heath (Lily May Peel)</td>\n",
              "      <td>female</td>\n",
              "      <td>35.0</td>\n",
              "      <td>1</td>\n",
              "      <td>0</td>\n",
              "      <td>113803</td>\n",
              "      <td>53.1000</td>\n",
              "      <td>C123</td>\n",
              "      <td>S</td>\n",
              "    </tr>\n",
              "    <tr>\n",
              "      <th>4</th>\n",
              "      <td>5</td>\n",
              "      <td>0</td>\n",
              "      <td>3</td>\n",
              "      <td>Allen, Mr. William Henry</td>\n",
              "      <td>male</td>\n",
              "      <td>35.0</td>\n",
              "      <td>0</td>\n",
              "      <td>0</td>\n",
              "      <td>373450</td>\n",
              "      <td>8.0500</td>\n",
              "      <td>NaN</td>\n",
              "      <td>S</td>\n",
              "    </tr>\n",
              "  </tbody>\n",
              "</table>\n",
              "</div>\n",
              "    <div class=\"colab-df-buttons\">\n",
              "\n",
              "  <div class=\"colab-df-container\">\n",
              "    <button class=\"colab-df-convert\" onclick=\"convertToInteractive('df-829131dd-35a3-4cd7-bfee-e09f72fb4fa3')\"\n",
              "            title=\"Convert this dataframe to an interactive table.\"\n",
              "            style=\"display:none;\">\n",
              "\n",
              "  <svg xmlns=\"http://www.w3.org/2000/svg\" height=\"24px\" viewBox=\"0 -960 960 960\">\n",
              "    <path d=\"M120-120v-720h720v720H120Zm60-500h600v-160H180v160Zm220 220h160v-160H400v160Zm0 220h160v-160H400v160ZM180-400h160v-160H180v160Zm440 0h160v-160H620v160ZM180-180h160v-160H180v160Zm440 0h160v-160H620v160Z\"/>\n",
              "  </svg>\n",
              "    </button>\n",
              "\n",
              "  <style>\n",
              "    .colab-df-container {\n",
              "      display:flex;\n",
              "      gap: 12px;\n",
              "    }\n",
              "\n",
              "    .colab-df-convert {\n",
              "      background-color: #E8F0FE;\n",
              "      border: none;\n",
              "      border-radius: 50%;\n",
              "      cursor: pointer;\n",
              "      display: none;\n",
              "      fill: #1967D2;\n",
              "      height: 32px;\n",
              "      padding: 0 0 0 0;\n",
              "      width: 32px;\n",
              "    }\n",
              "\n",
              "    .colab-df-convert:hover {\n",
              "      background-color: #E2EBFA;\n",
              "      box-shadow: 0px 1px 2px rgba(60, 64, 67, 0.3), 0px 1px 3px 1px rgba(60, 64, 67, 0.15);\n",
              "      fill: #174EA6;\n",
              "    }\n",
              "\n",
              "    .colab-df-buttons div {\n",
              "      margin-bottom: 4px;\n",
              "    }\n",
              "\n",
              "    [theme=dark] .colab-df-convert {\n",
              "      background-color: #3B4455;\n",
              "      fill: #D2E3FC;\n",
              "    }\n",
              "\n",
              "    [theme=dark] .colab-df-convert:hover {\n",
              "      background-color: #434B5C;\n",
              "      box-shadow: 0px 1px 3px 1px rgba(0, 0, 0, 0.15);\n",
              "      filter: drop-shadow(0px 1px 2px rgba(0, 0, 0, 0.3));\n",
              "      fill: #FFFFFF;\n",
              "    }\n",
              "  </style>\n",
              "\n",
              "    <script>\n",
              "      const buttonEl =\n",
              "        document.querySelector('#df-829131dd-35a3-4cd7-bfee-e09f72fb4fa3 button.colab-df-convert');\n",
              "      buttonEl.style.display =\n",
              "        google.colab.kernel.accessAllowed ? 'block' : 'none';\n",
              "\n",
              "      async function convertToInteractive(key) {\n",
              "        const element = document.querySelector('#df-829131dd-35a3-4cd7-bfee-e09f72fb4fa3');\n",
              "        const dataTable =\n",
              "          await google.colab.kernel.invokeFunction('convertToInteractive',\n",
              "                                                    [key], {});\n",
              "        if (!dataTable) return;\n",
              "\n",
              "        const docLinkHtml = 'Like what you see? Visit the ' +\n",
              "          '<a target=\"_blank\" href=https://colab.research.google.com/notebooks/data_table.ipynb>data table notebook</a>'\n",
              "          + ' to learn more about interactive tables.';\n",
              "        element.innerHTML = '';\n",
              "        dataTable['output_type'] = 'display_data';\n",
              "        await google.colab.output.renderOutput(dataTable, element);\n",
              "        const docLink = document.createElement('div');\n",
              "        docLink.innerHTML = docLinkHtml;\n",
              "        element.appendChild(docLink);\n",
              "      }\n",
              "    </script>\n",
              "  </div>\n",
              "\n",
              "\n",
              "<div id=\"df-85b212ab-74b7-405c-9e5e-7f3ac542c03d\">\n",
              "  <button class=\"colab-df-quickchart\" onclick=\"quickchart('df-85b212ab-74b7-405c-9e5e-7f3ac542c03d')\"\n",
              "            title=\"Suggest charts\"\n",
              "            style=\"display:none;\">\n",
              "\n",
              "<svg xmlns=\"http://www.w3.org/2000/svg\" height=\"24px\"viewBox=\"0 0 24 24\"\n",
              "     width=\"24px\">\n",
              "    <g>\n",
              "        <path d=\"M19 3H5c-1.1 0-2 .9-2 2v14c0 1.1.9 2 2 2h14c1.1 0 2-.9 2-2V5c0-1.1-.9-2-2-2zM9 17H7v-7h2v7zm4 0h-2V7h2v10zm4 0h-2v-4h2v4z\"/>\n",
              "    </g>\n",
              "</svg>\n",
              "  </button>\n",
              "\n",
              "<style>\n",
              "  .colab-df-quickchart {\n",
              "      --bg-color: #E8F0FE;\n",
              "      --fill-color: #1967D2;\n",
              "      --hover-bg-color: #E2EBFA;\n",
              "      --hover-fill-color: #174EA6;\n",
              "      --disabled-fill-color: #AAA;\n",
              "      --disabled-bg-color: #DDD;\n",
              "  }\n",
              "\n",
              "  [theme=dark] .colab-df-quickchart {\n",
              "      --bg-color: #3B4455;\n",
              "      --fill-color: #D2E3FC;\n",
              "      --hover-bg-color: #434B5C;\n",
              "      --hover-fill-color: #FFFFFF;\n",
              "      --disabled-bg-color: #3B4455;\n",
              "      --disabled-fill-color: #666;\n",
              "  }\n",
              "\n",
              "  .colab-df-quickchart {\n",
              "    background-color: var(--bg-color);\n",
              "    border: none;\n",
              "    border-radius: 50%;\n",
              "    cursor: pointer;\n",
              "    display: none;\n",
              "    fill: var(--fill-color);\n",
              "    height: 32px;\n",
              "    padding: 0;\n",
              "    width: 32px;\n",
              "  }\n",
              "\n",
              "  .colab-df-quickchart:hover {\n",
              "    background-color: var(--hover-bg-color);\n",
              "    box-shadow: 0 1px 2px rgba(60, 64, 67, 0.3), 0 1px 3px 1px rgba(60, 64, 67, 0.15);\n",
              "    fill: var(--button-hover-fill-color);\n",
              "  }\n",
              "\n",
              "  .colab-df-quickchart-complete:disabled,\n",
              "  .colab-df-quickchart-complete:disabled:hover {\n",
              "    background-color: var(--disabled-bg-color);\n",
              "    fill: var(--disabled-fill-color);\n",
              "    box-shadow: none;\n",
              "  }\n",
              "\n",
              "  .colab-df-spinner {\n",
              "    border: 2px solid var(--fill-color);\n",
              "    border-color: transparent;\n",
              "    border-bottom-color: var(--fill-color);\n",
              "    animation:\n",
              "      spin 1s steps(1) infinite;\n",
              "  }\n",
              "\n",
              "  @keyframes spin {\n",
              "    0% {\n",
              "      border-color: transparent;\n",
              "      border-bottom-color: var(--fill-color);\n",
              "      border-left-color: var(--fill-color);\n",
              "    }\n",
              "    20% {\n",
              "      border-color: transparent;\n",
              "      border-left-color: var(--fill-color);\n",
              "      border-top-color: var(--fill-color);\n",
              "    }\n",
              "    30% {\n",
              "      border-color: transparent;\n",
              "      border-left-color: var(--fill-color);\n",
              "      border-top-color: var(--fill-color);\n",
              "      border-right-color: var(--fill-color);\n",
              "    }\n",
              "    40% {\n",
              "      border-color: transparent;\n",
              "      border-right-color: var(--fill-color);\n",
              "      border-top-color: var(--fill-color);\n",
              "    }\n",
              "    60% {\n",
              "      border-color: transparent;\n",
              "      border-right-color: var(--fill-color);\n",
              "    }\n",
              "    80% {\n",
              "      border-color: transparent;\n",
              "      border-right-color: var(--fill-color);\n",
              "      border-bottom-color: var(--fill-color);\n",
              "    }\n",
              "    90% {\n",
              "      border-color: transparent;\n",
              "      border-bottom-color: var(--fill-color);\n",
              "    }\n",
              "  }\n",
              "</style>\n",
              "\n",
              "  <script>\n",
              "    async function quickchart(key) {\n",
              "      const quickchartButtonEl =\n",
              "        document.querySelector('#' + key + ' button');\n",
              "      quickchartButtonEl.disabled = true;  // To prevent multiple clicks.\n",
              "      quickchartButtonEl.classList.add('colab-df-spinner');\n",
              "      try {\n",
              "        const charts = await google.colab.kernel.invokeFunction(\n",
              "            'suggestCharts', [key], {});\n",
              "      } catch (error) {\n",
              "        console.error('Error during call to suggestCharts:', error);\n",
              "      }\n",
              "      quickchartButtonEl.classList.remove('colab-df-spinner');\n",
              "      quickchartButtonEl.classList.add('colab-df-quickchart-complete');\n",
              "    }\n",
              "    (() => {\n",
              "      let quickchartButtonEl =\n",
              "        document.querySelector('#df-85b212ab-74b7-405c-9e5e-7f3ac542c03d button');\n",
              "      quickchartButtonEl.style.display =\n",
              "        google.colab.kernel.accessAllowed ? 'block' : 'none';\n",
              "    })();\n",
              "  </script>\n",
              "</div>\n",
              "\n",
              "    </div>\n",
              "  </div>\n"
            ],
            "application/vnd.google.colaboratory.intrinsic+json": {
              "type": "dataframe",
              "variable_name": "df",
              "summary": "{\n  \"name\": \"df\",\n  \"rows\": 891,\n  \"fields\": [\n    {\n      \"column\": \"PassengerId\",\n      \"properties\": {\n        \"dtype\": \"number\",\n        \"std\": 257,\n        \"min\": 1,\n        \"max\": 891,\n        \"num_unique_values\": 891,\n        \"samples\": [\n          710,\n          440,\n          841\n        ],\n        \"semantic_type\": \"\",\n        \"description\": \"\"\n      }\n    },\n    {\n      \"column\": \"Survived\",\n      \"properties\": {\n        \"dtype\": \"number\",\n        \"std\": 0,\n        \"min\": 0,\n        \"max\": 1,\n        \"num_unique_values\": 2,\n        \"samples\": [\n          1,\n          0\n        ],\n        \"semantic_type\": \"\",\n        \"description\": \"\"\n      }\n    },\n    {\n      \"column\": \"Pclass\",\n      \"properties\": {\n        \"dtype\": \"number\",\n        \"std\": 0,\n        \"min\": 1,\n        \"max\": 3,\n        \"num_unique_values\": 3,\n        \"samples\": [\n          3,\n          1\n        ],\n        \"semantic_type\": \"\",\n        \"description\": \"\"\n      }\n    },\n    {\n      \"column\": \"Name\",\n      \"properties\": {\n        \"dtype\": \"string\",\n        \"num_unique_values\": 891,\n        \"samples\": [\n          \"Moubarek, Master. Halim Gonios (\\\"William George\\\")\",\n          \"Kvillner, Mr. Johan Henrik Johannesson\"\n        ],\n        \"semantic_type\": \"\",\n        \"description\": \"\"\n      }\n    },\n    {\n      \"column\": \"Sex\",\n      \"properties\": {\n        \"dtype\": \"category\",\n        \"num_unique_values\": 2,\n        \"samples\": [\n          \"female\",\n          \"male\"\n        ],\n        \"semantic_type\": \"\",\n        \"description\": \"\"\n      }\n    },\n    {\n      \"column\": \"Age\",\n      \"properties\": {\n        \"dtype\": \"number\",\n        \"std\": 14.526497332334042,\n        \"min\": 0.42,\n        \"max\": 80.0,\n        \"num_unique_values\": 88,\n        \"samples\": [\n          0.75,\n          22.0\n        ],\n        \"semantic_type\": \"\",\n        \"description\": \"\"\n      }\n    },\n    {\n      \"column\": \"SibSp\",\n      \"properties\": {\n        \"dtype\": \"number\",\n        \"std\": 1,\n        \"min\": 0,\n        \"max\": 8,\n        \"num_unique_values\": 7,\n        \"samples\": [\n          1,\n          0\n        ],\n        \"semantic_type\": \"\",\n        \"description\": \"\"\n      }\n    },\n    {\n      \"column\": \"Parch\",\n      \"properties\": {\n        \"dtype\": \"number\",\n        \"std\": 0,\n        \"min\": 0,\n        \"max\": 6,\n        \"num_unique_values\": 7,\n        \"samples\": [\n          0,\n          1\n        ],\n        \"semantic_type\": \"\",\n        \"description\": \"\"\n      }\n    },\n    {\n      \"column\": \"Ticket\",\n      \"properties\": {\n        \"dtype\": \"string\",\n        \"num_unique_values\": 681,\n        \"samples\": [\n          \"11774\",\n          \"248740\"\n        ],\n        \"semantic_type\": \"\",\n        \"description\": \"\"\n      }\n    },\n    {\n      \"column\": \"Fare\",\n      \"properties\": {\n        \"dtype\": \"number\",\n        \"std\": 49.6934285971809,\n        \"min\": 0.0,\n        \"max\": 512.3292,\n        \"num_unique_values\": 248,\n        \"samples\": [\n          11.2417,\n          51.8625\n        ],\n        \"semantic_type\": \"\",\n        \"description\": \"\"\n      }\n    },\n    {\n      \"column\": \"Cabin\",\n      \"properties\": {\n        \"dtype\": \"category\",\n        \"num_unique_values\": 147,\n        \"samples\": [\n          \"D45\",\n          \"B49\"\n        ],\n        \"semantic_type\": \"\",\n        \"description\": \"\"\n      }\n    },\n    {\n      \"column\": \"Embarked\",\n      \"properties\": {\n        \"dtype\": \"category\",\n        \"num_unique_values\": 3,\n        \"samples\": [\n          \"S\",\n          \"C\"\n        ],\n        \"semantic_type\": \"\",\n        \"description\": \"\"\n      }\n    }\n  ]\n}"
            }
          },
          "metadata": {},
          "execution_count": 19
        }
      ]
    },
    {
      "cell_type": "code",
      "source": [
        "import seaborn as sns"
      ],
      "metadata": {
        "id": "FXSzIiFM_RQ4"
      },
      "execution_count": 22,
      "outputs": []
    },
    {
      "cell_type": "markdown",
      "source": [
        "## 1. Categorical Data"
      ],
      "metadata": {
        "id": "AgiJY7Bc_0Nd"
      }
    },
    {
      "cell_type": "markdown",
      "source": [
        "### a.countplot"
      ],
      "metadata": {
        "id": "jbnNHJO1Avbt"
      }
    },
    {
      "cell_type": "code",
      "source": [
        "import matplotlib.pyplot as plt"
      ],
      "metadata": {
        "id": "K7bhvP3YCBdY"
      },
      "execution_count": 28,
      "outputs": []
    },
    {
      "cell_type": "code",
      "source": [
        "sns.countplot(df, x = 'Pclass')\n",
        "#df['Survived'].value_counts().plot(kind='bar')"
      ],
      "metadata": {
        "colab": {
          "base_uri": "https://localhost:8080/",
          "height": 467
        },
        "id": "_Fl8cIKV_wpM",
        "outputId": "a85ca847-19ca-4e40-de19-03fd808a6353"
      },
      "execution_count": 33,
      "outputs": [
        {
          "output_type": "execute_result",
          "data": {
            "text/plain": [
              "<Axes: xlabel='Pclass', ylabel='count'>"
            ]
          },
          "metadata": {},
          "execution_count": 33
        },
        {
          "output_type": "display_data",
          "data": {
            "text/plain": [
              "<Figure size 640x480 with 1 Axes>"
            ],
            "image/png": "[encoded data removed]"
          },
          "metadata": {}
        }
      ]
    },
    {
      "cell_type": "markdown",
      "source": [
        "###b. piechart"
      ],
      "metadata": {
        "id": "xwnsWAQwCNmn"
      }
    },
    {
      "cell_type": "code",
      "source": [
        "from enum import auto\n",
        "df['Survived'].value_counts().plot(kind='pie', autopct='%.2f')"
      ],
      "metadata": {
        "colab": {
          "base_uri": "https://localhost:8080/",
          "height": 424
        },
        "id": "WhbRZit7A5Zl",
        "outputId": "8e06a6fc-e7db-4b11-9a65-ff6de0082372"
      },
      "execution_count": 32,
      "outputs": [
        {
          "output_type": "execute_result",
          "data": {
            "text/plain": [
              "<Axes: ylabel='count'>"
            ]
          },
          "metadata": {},
          "execution_count": 32
        },
        {
          "output_type": "display_data",
          "data": {
            "text/plain": [
              "<Figure size 640x480 with 1 Axes>"
            ],
            "image/png": "[encoded data removed]"
          },
          "metadata": {}
        }
      ]
    },
    {
      "cell_type": "markdown",
      "source": [
        "##2. Numerical Data"
      ],
      "metadata": {
        "id": "Jsg5zoqIC3s5"
      }
    },
    {
      "cell_type": "markdown",
      "source": [
        "### a. histogram"
      ],
      "metadata": {
        "id": "Z6b5JcjpDNsr"
      }
    },
    {
      "cell_type": "code",
      "source": [
        "plt.hist(df['Age'])"
      ],
      "metadata": {
        "colab": {
          "base_uri": "https://localhost:8080/",
          "height": 503
        },
        "id": "H0K-c-GMC65O",
        "outputId": "a3150a85-7054-4dee-b0ff-7daca7c5bc38"
      },
      "execution_count": 34,
      "outputs": [
        {
          "output_type": "execute_result",
          "data": {
            "text/plain": [
              "(array([ 54.,  46., 177., 169., 118.,  70.,  45.,  24.,   9.,   2.]),\n",
              " array([ 0.42 ,  8.378, 16.336, 24.294, 32.252, 40.21 , 48.168, 56.126,\n",
              "        64.084, 72.042, 80.   ]),\n",
              " <BarContainer object of 10 artists>)"
            ]
          },
          "metadata": {},
          "execution_count": 34
        },
        {
          "output_type": "display_data",
          "data": {
            "text/plain": [
              "<Figure size 640x480 with 1 Axes>"
            ],
            "image/png": "[encoded data removed]"
          },
          "metadata": {}
        }
      ]
    },
    {
      "cell_type": "markdown",
      "source": [
        "### b. distplot"
      ],
      "metadata": {
        "id": "QZ4omy0hDrEA"
      }
    },
    {
      "cell_type": "code",
      "source": [
        "sns.distplot(df['Age'])\n",
        "#kde==kernel density estimation\n",
        "#y = probabality, x = age"
      ],
      "metadata": {
        "colab": {
          "base_uri": "https://localhost:8080/",
          "height": 668
        },
        "id": "F8cb79f7Ds8Z",
        "outputId": "fe390b64-85c0-4b37-d280-a7b818d5b228"
      },
      "execution_count": 37,
      "outputs": [
        {
          "output_type": "stream",
          "name": "stderr",
          "text": [
            "<ipython-input-37-0fafe04ea3f6>:1: UserWarning: \n",
            "\n",
            "`distplot` is a deprecated function and will be removed in seaborn v0.14.0.\n",
            "\n",
            "Please adapt your code to use either `displot` (a figure-level function with\n",
            "similar flexibility) or `histplot` (an axes-level function for histograms).\n",
            "\n",
            "For a guide to updating your code to use the new functions, please see\n",
            "https://gist.github.com/mwaskom/de44147ed2974457ad6372750bbe5751\n",
            "\n",
            "  sns.distplot(df['Age'])\n"
          ]
        },
        {
          "output_type": "execute_result",
          "data": {
            "text/plain": [
              "<Axes: xlabel='Age', ylabel='Density'>"
            ]
          },
          "metadata": {},
          "execution_count": 37
        },
        {
          "output_type": "display_data",
          "data": {
            "text/plain": [
              "<Figure size 640x480 with 1 Axes>"
            ],
            "image/png": "[encoded data removed]"
          },
          "metadata": {}
        }
      ]
    },
    {
      "cell_type": "markdown",
      "source": [
        "### c. boxplot"
      ],
      "metadata": {
        "id": "1D05cwYvEN-5"
      }
    },
    {
      "cell_type": "markdown",
      "source": [
        "![image.png](data:image/png;base64,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)"
      ],
      "metadata": {
        "id": "_rfKQU9XE7sI"
      }
    },
    {
      "cell_type": "code",
      "source": [
        "sns.boxplot(df, x='Fare')\n"
      ],
      "metadata": {
        "colab": {
          "base_uri": "https://localhost:8080/",
          "height": 467
        },
        "id": "mEEQJFBaEAgy",
        "outputId": "2352fde3-16c4-40eb-bdc2-c6d101cab226"
      },
      "execution_count": 41,
      "outputs": [
        {
          "output_type": "execute_result",
          "data": {
            "text/plain": [
              "<Axes: xlabel='Fare'>"
            ]
          },
          "metadata": {},
          "execution_count": 41
        },
        {
          "output_type": "display_data",
          "data": {
            "text/plain": [
              "<Figure size 640x480 with 1 Axes>"
            ],
            "image/png": "[encoded data removed]"
          },
          "metadata": {}
        }
      ]
    },
    {
      "cell_type": "code",
      "source": [
        "sns.boxplot(df, x='Age')"
      ],
      "metadata": {
        "colab": {
          "base_uri": "https://localhost:8080/",
          "height": 467
        },
        "id": "J2EEIkqaFIIV",
        "outputId": "d4a0a0fb-d59c-46d7-9cd8-0af16f1fb9a6"
      },
      "execution_count": 42,
      "outputs": [
        {
          "output_type": "execute_result",
          "data": {
            "text/plain": [
              "<Axes: xlabel='Age'>"
            ]
          },
          "metadata": {},
          "execution_count": 42
        },
        {
          "output_type": "display_data",
          "data": {
            "text/plain": [
              "<Figure size 640x480 with 1 Axes>"
            ],
            "image/png": "[encoded data removed]"
          },
          "metadata": {}
        }
      ]
    },
    {
      "cell_type": "code",
      "source": [
        "df['Age'].min()"
      ],
      "metadata": {
        "colab": {
          "base_uri": "https://localhost:8080/"
        },
        "id": "XYzJ5qSyFdj7",
        "outputId": "e0a9847a-a371-4a41-8896-9a6ced596721"
      },
      "execution_count": 43,
      "outputs": [
        {
          "output_type": "execute_result",
          "data": {
            "text/plain": [
              "0.42"
            ]
          },
          "metadata": {},
          "execution_count": 43
        }
      ]
    },
    {
      "cell_type": "code",
      "source": [
        "df['Age'].max()"
      ],
      "metadata": {
        "colab": {
          "base_uri": "https://localhost:8080/"
        },
        "id": "LbGZWsIwFnl-",
        "outputId": "fca941da-a49b-4dc3-acb1-bfd60f4b9e2e"
      },
      "execution_count": 44,
      "outputs": [
        {
          "output_type": "execute_result",
          "data": {
            "text/plain": [
              "80.0"
            ]
          },
          "metadata": {},
          "execution_count": 44
        }
      ]
    },
    {
      "cell_type": "markdown",
      "source": [
        "## Univariate Analysis"
      ],
      "metadata": {
        "id": "RsuUUJkaGNNw"
      }
    },
    {
      "cell_type": "code",
      "source": [
        "df1 = pd.read_csv('/content/Virat-Kohli-International-Cricket-Centuries.csv')"
      ],
      "metadata": {
        "id": "_9yOWe9EFqy8"
      },
      "execution_count": 45,
      "outputs": []
    },
    {
      "cell_type": "code",
      "source": [
        "df1.shape"
      ],
      "metadata": {
        "colab": {
          "base_uri": "https://localhost:8080/"
        },
        "id": "s25bo9lVG6JY",
        "outputId": "d39abb97-5840-4278-a232-4292e1d5e6ff"
      },
      "execution_count": 47,
      "outputs": [
        {
          "output_type": "execute_result",
          "data": {
            "text/plain": [
              "(80, 9)"
            ]
          },
          "metadata": {},
          "execution_count": 47
        }
      ]
    },
    {
      "cell_type": "code",
      "source": [
        "df1.head()"
      ],
      "metadata": {
        "colab": {
          "base_uri": "https://localhost:8080/",
          "height": 206
        },
        "id": "0xO2zMnlG8lz",
        "outputId": "8b8df92e-6718-42d1-a6ae-a0e72d057c32"
      },
      "execution_count": 50,
      "outputs": [
        {
          "output_type": "execute_result",
          "data": {
            "text/plain": [
              "   No.   Runs       Against  Position  Innings  \\\n",
              "0    1    107     Sri Lanka         4        2   \n",
              "1    2  102*     Bangladesh         3        2   \n",
              "2    3    118     Australia         3        2   \n",
              "3    4    105   New Zealand         3        1   \n",
              "4    5   100*    Bangladesh         4        1   \n",
              "\n",
              "                                  Venue Ground       Date Result  \n",
              "0                 Eden Gardens, Kolkata   Home  24-Dec-09    Won  \n",
              "1  Sher-e-Bangla Cricket Stadium, Dhaka   Away  11-Jan-10    Won  \n",
              "2      APCA-VDCA Stadium, Visakhapatnam   Home  20-Oct-10    Won  \n",
              "3               Nehru Stadium, Guwahati   Home  28-Nov-10    Won  \n",
              "4  Sher-e-Bangla Cricket Stadium, Dhaka   Away  19-Feb-11    Won  "
            ],
            "text/html": [
              "\n",
              "  <div id=\"df-61f3ac15-4c63-41fd-baf4-cca8803877f4\" class=\"colab-df-container\">\n",
              "    <div>\n",
              "<style scoped>\n",
              "    .dataframe tbody tr th:only-of-type {\n",
              "        vertical-align: middle;\n",
              "    }\n",
              "\n",
              "    .dataframe tbody tr th {\n",
              "        vertical-align: top;\n",
              "    }\n",
              "\n",
              "    .dataframe thead th {\n",
              "        text-align: right;\n",
              "    }\n",
              "</style>\n",
              "<table border=\"1\" class=\"dataframe\">\n",
              "  <thead>\n",
              "    <tr style=\"text-align: right;\">\n",
              "      <th></th>\n",
              "      <th>No.</th>\n",
              "      <th>Runs</th>\n",
              "      <th>Against</th>\n",
              "      <th>Position</th>\n",
              "      <th>Innings</th>\n",
              "      <th>Venue</th>\n",
              "      <th>Ground</th>\n",
              "      <th>Date</th>\n",
              "      <th>Result</th>\n",
              "    </tr>\n",
              "  </thead>\n",
              "  <tbody>\n",
              "    <tr>\n",
              "      <th>0</th>\n",
              "      <td>1</td>\n",
              "      <td>107</td>\n",
              "      <td>Sri Lanka</td>\n",
              "      <td>4</td>\n",
              "      <td>2</td>\n",
              "      <td>Eden Gardens, Kolkata</td>\n",
              "      <td>Home</td>\n",
              "      <td>24-Dec-09</td>\n",
              "      <td>Won</td>\n",
              "    </tr>\n",
              "    <tr>\n",
              "      <th>1</th>\n",
              "      <td>2</td>\n",
              "      <td>102*</td>\n",
              "      <td>Bangladesh</td>\n",
              "      <td>3</td>\n",
              "      <td>2</td>\n",
              "      <td>Sher-e-Bangla Cricket Stadium, Dhaka</td>\n",
              "      <td>Away</td>\n",
              "      <td>11-Jan-10</td>\n",
              "      <td>Won</td>\n",
              "    </tr>\n",
              "    <tr>\n",
              "      <th>2</th>\n",
              "      <td>3</td>\n",
              "      <td>118</td>\n",
              "      <td>Australia</td>\n",
              "      <td>3</td>\n",
              "      <td>2</td>\n",
              "      <td>APCA-VDCA Stadium, Visakhapatnam</td>\n",
              "      <td>Home</td>\n",
              "      <td>20-Oct-10</td>\n",
              "      <td>Won</td>\n",
              "    </tr>\n",
              "    <tr>\n",
              "      <th>3</th>\n",
              "      <td>4</td>\n",
              "      <td>105</td>\n",
              "      <td>New Zealand</td>\n",
              "      <td>3</td>\n",
              "      <td>1</td>\n",
              "      <td>Nehru Stadium, Guwahati</td>\n",
              "      <td>Home</td>\n",
              "      <td>28-Nov-10</td>\n",
              "      <td>Won</td>\n",
              "    </tr>\n",
              "    <tr>\n",
              "      <th>4</th>\n",
              "      <td>5</td>\n",
              "      <td>100*</td>\n",
              "      <td>Bangladesh</td>\n",
              "      <td>4</td>\n",
              "      <td>1</td>\n",
              "      <td>Sher-e-Bangla Cricket Stadium, Dhaka</td>\n",
              "      <td>Away</td>\n",
              "      <td>19-Feb-11</td>\n",
              "      <td>Won</td>\n",
              "    </tr>\n",
              "  </tbody>\n",
              "</table>\n",
              "</div>\n",
              "    <div class=\"colab-df-buttons\">\n",
              "\n",
              "  <div class=\"colab-df-container\">\n",
              "    <button class=\"colab-df-convert\" onclick=\"convertToInteractive('df-61f3ac15-4c63-41fd-baf4-cca8803877f4')\"\n",
              "            title=\"Convert this dataframe to an interactive table.\"\n",
              "            style=\"display:none;\">\n",
              "\n",
              "  <svg xmlns=\"http://www.w3.org/2000/svg\" height=\"24px\" viewBox=\"0 -960 960 960\">\n",
              "    <path d=\"M120-120v-720h720v720H120Zm60-500h600v-160H180v160Zm220 220h160v-160H400v160Zm0 220h160v-160H400v160ZM180-400h160v-160H180v160Zm440 0h160v-160H620v160ZM180-180h160v-160H180v160Zm440 0h160v-160H620v160Z\"/>\n",
              "  </svg>\n",
              "    </button>\n",
              "\n",
              "  <style>\n",
              "    .colab-df-container {\n",
              "      display:flex;\n",
              "      gap: 12px;\n",
              "    }\n",
              "\n",
              "    .colab-df-convert {\n",
              "      background-color: #E8F0FE;\n",
              "      border: none;\n",
              "      border-radius: 50%;\n",
              "      cursor: pointer;\n",
              "      display: none;\n",
              "      fill: #1967D2;\n",
              "      height: 32px;\n",
              "      padding: 0 0 0 0;\n",
              "      width: 32px;\n",
              "    }\n",
              "\n",
              "    .colab-df-convert:hover {\n",
              "      background-color: #E2EBFA;\n",
              "      box-shadow: 0px 1px 2px rgba(60, 64, 67, 0.3), 0px 1px 3px 1px rgba(60, 64, 67, 0.15);\n",
              "      fill: #174EA6;\n",
              "    }\n",
              "\n",
              "    .colab-df-buttons div {\n",
              "      margin-bottom: 4px;\n",
              "    }\n",
              "\n",
              "    [theme=dark] .colab-df-convert {\n",
              "      background-color: #3B4455;\n",
              "      fill: #D2E3FC;\n",
              "    }\n",
              "\n",
              "    [theme=dark] .colab-df-convert:hover {\n",
              "      background-color: #434B5C;\n",
              "      box-shadow: 0px 1px 3px 1px rgba(0, 0, 0, 0.15);\n",
              "      filter: drop-shadow(0px 1px 2px rgba(0, 0, 0, 0.3));\n",
              "      fill: #FFFFFF;\n",
              "    }\n",
              "  </style>\n",
              "\n",
              "    <script>\n",
              "      const buttonEl =\n",
              "        document.querySelector('#df-61f3ac15-4c63-41fd-baf4-cca8803877f4 button.colab-df-convert');\n",
              "      buttonEl.style.display =\n",
              "        google.colab.kernel.accessAllowed ? 'block' : 'none';\n",
              "\n",
              "      async function convertToInteractive(key) {\n",
              "        const element = document.querySelector('#df-61f3ac15-4c63-41fd-baf4-cca8803877f4');\n",
              "        const dataTable =\n",
              "          await google.colab.kernel.invokeFunction('convertToInteractive',\n",
              "                                                    [key], {});\n",
              "        if (!dataTable) return;\n",
              "\n",
              "        const docLinkHtml = 'Like what you see? Visit the ' +\n",
              "          '<a target=\"_blank\" href=https://colab.research.google.com/notebooks/data_table.ipynb>data table notebook</a>'\n",
              "          + ' to learn more about interactive tables.';\n",
              "        element.innerHTML = '';\n",
              "        dataTable['output_type'] = 'display_data';\n",
              "        await google.colab.output.renderOutput(dataTable, element);\n",
              "        const docLink = document.createElement('div');\n",
              "        docLink.innerHTML = docLinkHtml;\n",
              "        element.appendChild(docLink);\n",
              "      }\n",
              "    </script>\n",
              "  </div>\n",
              "\n",
              "\n",
              "<div id=\"df-53434976-d259-4e7e-a01a-d7ecffda630e\">\n",
              "  <button class=\"colab-df-quickchart\" onclick=\"quickchart('df-53434976-d259-4e7e-a01a-d7ecffda630e')\"\n",
              "            title=\"Suggest charts\"\n",
              "            style=\"display:none;\">\n",
              "\n",
              "<svg xmlns=\"http://www.w3.org/2000/svg\" height=\"24px\"viewBox=\"0 0 24 24\"\n",
              "     width=\"24px\">\n",
              "    <g>\n",
              "        <path d=\"M19 3H5c-1.1 0-2 .9-2 2v14c0 1.1.9 2 2 2h14c1.1 0 2-.9 2-2V5c0-1.1-.9-2-2-2zM9 17H7v-7h2v7zm4 0h-2V7h2v10zm4 0h-2v-4h2v4z\"/>\n",
              "    </g>\n",
              "</svg>\n",
              "  </button>\n",
              "\n",
              "<style>\n",
              "  .colab-df-quickchart {\n",
              "      --bg-color: #E8F0FE;\n",
              "      --fill-color: #1967D2;\n",
              "      --hover-bg-color: #E2EBFA;\n",
              "      --hover-fill-color: #174EA6;\n",
              "      --disabled-fill-color: #AAA;\n",
              "      --disabled-bg-color: #DDD;\n",
              "  }\n",
              "\n",
              "  [theme=dark] .colab-df-quickchart {\n",
              "      --bg-color: #3B4455;\n",
              "      --fill-color: #D2E3FC;\n",
              "      --hover-bg-color: #434B5C;\n",
              "      --hover-fill-color: #FFFFFF;\n",
              "      --disabled-bg-color: #3B4455;\n",
              "      --disabled-fill-color: #666;\n",
              "  }\n",
              "\n",
              "  .colab-df-quickchart {\n",
              "    background-color: var(--bg-color);\n",
              "    border: none;\n",
              "    border-radius: 50%;\n",
              "    cursor: pointer;\n",
              "    display: none;\n",
              "    fill: var(--fill-color);\n",
              "    height: 32px;\n",
              "    padding: 0;\n",
              "    width: 32px;\n",
              "  }\n",
              "\n",
              "  .colab-df-quickchart:hover {\n",
              "    background-color: var(--hover-bg-color);\n",
              "    box-shadow: 0 1px 2px rgba(60, 64, 67, 0.3), 0 1px 3px 1px rgba(60, 64, 67, 0.15);\n",
              "    fill: var(--button-hover-fill-color);\n",
              "  }\n",
              "\n",
              "  .colab-df-quickchart-complete:disabled,\n",
              "  .colab-df-quickchart-complete:disabled:hover {\n",
              "    background-color: var(--disabled-bg-color);\n",
              "    fill: var(--disabled-fill-color);\n",
              "    box-shadow: none;\n",
              "  }\n",
              "\n",
              "  .colab-df-spinner {\n",
              "    border: 2px solid var(--fill-color);\n",
              "    border-color: transparent;\n",
              "    border-bottom-color: var(--fill-color);\n",
              "    animation:\n",
              "      spin 1s steps(1) infinite;\n",
              "  }\n",
              "\n",
              "  @keyframes spin {\n",
              "    0% {\n",
              "      border-color: transparent;\n",
              "      border-bottom-color: var(--fill-color);\n",
              "      border-left-color: var(--fill-color);\n",
              "    }\n",
              "    20% {\n",
              "      border-color: transparent;\n",
              "      border-left-color: var(--fill-color);\n",
              "      border-top-color: var(--fill-color);\n",
              "    }\n",
              "    30% {\n",
              "      border-color: transparent;\n",
              "      border-left-color: var(--fill-color);\n",
              "      border-top-color: var(--fill-color);\n",
              "      border-right-color: var(--fill-color);\n",
              "    }\n",
              "    40% {\n",
              "      border-color: transparent;\n",
              "      border-right-color: var(--fill-color);\n",
              "      border-top-color: var(--fill-color);\n",
              "    }\n",
              "    60% {\n",
              "      border-color: transparent;\n",
              "      border-right-color: var(--fill-color);\n",
              "    }\n",
              "    80% {\n",
              "      border-color: transparent;\n",
              "      border-right-color: var(--fill-color);\n",
              "      border-bottom-color: var(--fill-color);\n",
              "    }\n",
              "    90% {\n",
              "      border-color: transparent;\n",
              "      border-bottom-color: var(--fill-color);\n",
              "    }\n",
              "  }\n",
              "</style>\n",
              "\n",
              "  <script>\n",
              "    async function quickchart(key) {\n",
              "      const quickchartButtonEl =\n",
              "        document.querySelector('#' + key + ' button');\n",
              "      quickchartButtonEl.disabled = true;  // To prevent multiple clicks.\n",
              "      quickchartButtonEl.classList.add('colab-df-spinner');\n",
              "      try {\n",
              "        const charts = await google.colab.kernel.invokeFunction(\n",
              "            'suggestCharts', [key], {});\n",
              "      } catch (error) {\n",
              "        console.error('Error during call to suggestCharts:', error);\n",
              "      }\n",
              "      quickchartButtonEl.classList.remove('colab-df-spinner');\n",
              "      quickchartButtonEl.classList.add('colab-df-quickchart-complete');\n",
              "    }\n",
              "    (() => {\n",
              "      let quickchartButtonEl =\n",
              "        document.querySelector('#df-53434976-d259-4e7e-a01a-d7ecffda630e button');\n",
              "      quickchartButtonEl.style.display =\n",
              "        google.colab.kernel.accessAllowed ? 'block' : 'none';\n",
              "    })();\n",
              "  </script>\n",
              "</div>\n",
              "\n",
              "    </div>\n",
              "  </div>\n"
            ],
            "application/vnd.google.colaboratory.intrinsic+json": {
              "type": "dataframe",
              "variable_name": "df1",
              "summary": "{\n  \"name\": \"df1\",\n  \"rows\": 80,\n  \"fields\": [\n    {\n      \"column\": \"No.\",\n      \"properties\": {\n        \"dtype\": \"number\",\n        \"std\": 23,\n        \"min\": 1,\n        \"max\": 80,\n        \"num_unique_values\": 80,\n        \"samples\": [\n          31,\n          1,\n          23\n        ],\n        \"semantic_type\": \"\",\n        \"description\": \"\"\n      }\n    },\n    {\n      \"column\": \"Runs\",\n      \"properties\": {\n        \"dtype\": \"string\",\n        \"num_unique_values\": 60,\n        \"samples\": [\n          \"107\",\n          \"112* \",\n          \"131\"\n        ],\n        \"semantic_type\": \"\",\n        \"description\": \"\"\n      }\n    },\n    {\n      \"column\": \"Against\",\n      \"properties\": {\n        \"dtype\": \"category\",\n        \"num_unique_values\": 15,\n        \"samples\": [\n          \" Afghanistan\",\n          \"Pakistan\",\n          \" Sri Lanka\"\n        ],\n        \"semantic_type\": \"\",\n        \"description\": \"\"\n      }\n    },\n    {\n      \"column\": \"Position\",\n      \"properties\": {\n        \"dtype\": \"number\",\n        \"std\": 0,\n        \"min\": 2,\n        \"max\": 6,\n        \"num_unique_values\": 5,\n        \"samples\": [\n          3,\n          2,\n          6\n        ],\n        \"semantic_type\": \"\",\n        \"description\": \"\"\n      }\n    },\n    {\n      \"column\": \"Innings\",\n      \"properties\": {\n        \"dtype\": \"number\",\n        \"std\": 0,\n        \"min\": 1,\n        \"max\": 4,\n        \"num_unique_values\": 4,\n        \"samples\": [\n          1,\n          3,\n          2\n        ],\n        \"semantic_type\": \"\",\n        \"description\": \"\"\n      }\n    },\n    {\n      \"column\": \"Venue\",\n      \"properties\": {\n        \"dtype\": \"string\",\n        \"num_unique_values\": 49,\n        \"samples\": [\n          \"Queen's Park Oval, Port of Spain\",\n          \"Zohur Ahmed Chowdhury Stadium, Chittagong\",\n          \"Narendra Modi Stadium, Ahmedabad\"\n        ],\n        \"semantic_type\": \"\",\n        \"description\": \"\"\n      }\n    },\n    {\n      \"column\": \"Ground\",\n      \"properties\": {\n        \"dtype\": \"category\",\n        \"num_unique_values\": 3,\n        \"samples\": [\n          \"Home\",\n          \"Away\",\n          \"Neutral\"\n        ],\n        \"semantic_type\": \"\",\n        \"description\": \"\"\n      }\n    },\n    {\n      \"column\": \"Date\",\n      \"properties\": {\n        \"dtype\": \"string\",\n        \"num_unique_values\": 79,\n        \"samples\": [\n          \"15-Feb-15\",\n          \"24-Dec-09\",\n          \"19-Jan-14\"\n        ],\n        \"semantic_type\": \"\",\n        \"description\": \"\"\n      }\n    },\n    {\n      \"column\": \"Result\",\n      \"properties\": {\n        \"dtype\": \"category\",\n        \"num_unique_values\": 6,\n        \"samples\": [\n          \"Won\",\n          \"Lost (D/L)\",\n          \"Tied\"\n        ],\n        \"semantic_type\": \"\",\n        \"description\": \"\"\n      }\n    }\n  ]\n}"
            }
          },
          "metadata": {},
          "execution_count": 50
        }
      ]
    },
    {
      "cell_type": "code",
      "source": [
        "df1.sample(7)"
      ],
      "metadata": {
        "colab": {
          "base_uri": "https://localhost:8080/",
          "height": 269
        },
        "id": "PguXRLHBHCEu",
        "outputId": "1fe1a774-7af8-4b78-cc8a-b9c582e58d83"
      },
      "execution_count": 52,
      "outputs": [
        {
          "output_type": "execute_result",
          "data": {
            "text/plain": [
              "    No.   Runs       Against  Position  Innings  \\\n",
              "64   65    116     Australia         3        1   \n",
              "49   50  104*      Sri Lanka         4        3   \n",
              "30   31    147     Australia         4        2   \n",
              "59   60    140   West Indies         3        2   \n",
              "2     3    118     Australia         3        2   \n",
              "34   35    117     Australia         3        1   \n",
              "58   59    139   West Indies         4        1   \n",
              "\n",
              "                                             Venue Ground       Date Result  \n",
              "64    Vidarbha Cricket Association Stadium, Nagpur   Home  05-Mar-19    Won  \n",
              "49                           Eden Gardens, Kolkata   Home  16-Nov-17  Drawn  \n",
              "30                   Sydney Cricket Ground, Sydney   Away  06-Jan-15  Drawn  \n",
              "59                           ACA Stadium, Guwahati   Home  21-Oct-18    Won  \n",
              "2                 APCA-VDCA Stadium, Visakhapatnam   Home  20-Oct-10    Won  \n",
              "34             Melbourne Cricket Ground, Melbourne   Away  17-Jan-16   Lost  \n",
              "58  Saurashtra Cricket Association Stadium, Rajkot   Home  04-Oct-18    Won  "
            ],
            "text/html": [
              "\n",
              "  <div id=\"df-31e3c4b4-2273-4ba8-a351-7e140bd16bb0\" class=\"colab-df-container\">\n",
              "    <div>\n",
              "<style scoped>\n",
              "    .dataframe tbody tr th:only-of-type {\n",
              "        vertical-align: middle;\n",
              "    }\n",
              "\n",
              "    .dataframe tbody tr th {\n",
              "        vertical-align: top;\n",
              "    }\n",
              "\n",
              "    .dataframe thead th {\n",
              "        text-align: right;\n",
              "    }\n",
              "</style>\n",
              "<table border=\"1\" class=\"dataframe\">\n",
              "  <thead>\n",
              "    <tr style=\"text-align: right;\">\n",
              "      <th></th>\n",
              "      <th>No.</th>\n",
              "      <th>Runs</th>\n",
              "      <th>Against</th>\n",
              "      <th>Position</th>\n",
              "      <th>Innings</th>\n",
              "      <th>Venue</th>\n",
              "      <th>Ground</th>\n",
              "      <th>Date</th>\n",
              "      <th>Result</th>\n",
              "    </tr>\n",
              "  </thead>\n",
              "  <tbody>\n",
              "    <tr>\n",
              "      <th>64</th>\n",
              "      <td>65</td>\n",
              "      <td>116</td>\n",
              "      <td>Australia</td>\n",
              "      <td>3</td>\n",
              "      <td>1</td>\n",
              "      <td>Vidarbha Cricket Association Stadium, Nagpur</td>\n",
              "      <td>Home</td>\n",
              "      <td>05-Mar-19</td>\n",
              "      <td>Won</td>\n",
              "    </tr>\n",
              "    <tr>\n",
              "      <th>49</th>\n",
              "      <td>50</td>\n",
              "      <td>104*</td>\n",
              "      <td>Sri Lanka</td>\n",
              "      <td>4</td>\n",
              "      <td>3</td>\n",
              "      <td>Eden Gardens, Kolkata</td>\n",
              "      <td>Home</td>\n",
              "      <td>16-Nov-17</td>\n",
              "      <td>Drawn</td>\n",
              "    </tr>\n",
              "    <tr>\n",
              "      <th>30</th>\n",
              "      <td>31</td>\n",
              "      <td>147</td>\n",
              "      <td>Australia</td>\n",
              "      <td>4</td>\n",
              "      <td>2</td>\n",
              "      <td>Sydney Cricket Ground, Sydney</td>\n",
              "      <td>Away</td>\n",
              "      <td>06-Jan-15</td>\n",
              "      <td>Drawn</td>\n",
              "    </tr>\n",
              "    <tr>\n",
              "      <th>59</th>\n",
              "      <td>60</td>\n",
              "      <td>140</td>\n",
              "      <td>West Indies</td>\n",
              "      <td>3</td>\n",
              "      <td>2</td>\n",
              "      <td>ACA Stadium, Guwahati</td>\n",
              "      <td>Home</td>\n",
              "      <td>21-Oct-18</td>\n",
              "      <td>Won</td>\n",
              "    </tr>\n",
              "    <tr>\n",
              "      <th>2</th>\n",
              "      <td>3</td>\n",
              "      <td>118</td>\n",
              "      <td>Australia</td>\n",
              "      <td>3</td>\n",
              "      <td>2</td>\n",
              "      <td>APCA-VDCA Stadium, Visakhapatnam</td>\n",
              "      <td>Home</td>\n",
              "      <td>20-Oct-10</td>\n",
              "      <td>Won</td>\n",
              "    </tr>\n",
              "    <tr>\n",
              "      <th>34</th>\n",
              "      <td>35</td>\n",
              "      <td>117</td>\n",
              "      <td>Australia</td>\n",
              "      <td>3</td>\n",
              "      <td>1</td>\n",
              "      <td>Melbourne Cricket Ground, Melbourne</td>\n",
              "      <td>Away</td>\n",
              "      <td>17-Jan-16</td>\n",
              "      <td>Lost</td>\n",
              "    </tr>\n",
              "    <tr>\n",
              "      <th>58</th>\n",
              "      <td>59</td>\n",
              "      <td>139</td>\n",
              "      <td>West Indies</td>\n",
              "      <td>4</td>\n",
              "      <td>1</td>\n",
              "      <td>Saurashtra Cricket Association Stadium, Rajkot</td>\n",
              "      <td>Home</td>\n",
              "      <td>04-Oct-18</td>\n",
              "      <td>Won</td>\n",
              "    </tr>\n",
              "  </tbody>\n",
              "</table>\n",
              "</div>\n",
              "    <div class=\"colab-df-buttons\">\n",
              "\n",
              "  <div class=\"colab-df-container\">\n",
              "    <button class=\"colab-df-convert\" onclick=\"convertToInteractive('df-31e3c4b4-2273-4ba8-a351-7e140bd16bb0')\"\n",
              "            title=\"Convert this dataframe to an interactive table.\"\n",
              "            style=\"display:none;\">\n",
              "\n",
              "  <svg xmlns=\"http://www.w3.org/2000/svg\" height=\"24px\" viewBox=\"0 -960 960 960\">\n",
              "    <path d=\"M120-120v-720h720v720H120Zm60-500h600v-160H180v160Zm220 220h160v-160H400v160Zm0 220h160v-160H400v160ZM180-400h160v-160H180v160Zm440 0h160v-160H620v160ZM180-180h160v-160H180v160Zm440 0h160v-160H620v160Z\"/>\n",
              "  </svg>\n",
              "    </button>\n",
              "\n",
              "  <style>\n",
              "    .colab-df-container {\n",
              "      display:flex;\n",
              "      gap: 12px;\n",
              "    }\n",
              "\n",
              "    .colab-df-convert {\n",
              "      background-color: #E8F0FE;\n",
              "      border: none;\n",
              "      border-radius: 50%;\n",
              "      cursor: pointer;\n",
              "      display: none;\n",
              "      fill: #1967D2;\n",
              "      height: 32px;\n",
              "      padding: 0 0 0 0;\n",
              "      width: 32px;\n",
              "    }\n",
              "\n",
              "    .colab-df-convert:hover {\n",
              "      background-color: #E2EBFA;\n",
              "      box-shadow: 0px 1px 2px rgba(60, 64, 67, 0.3), 0px 1px 3px 1px rgba(60, 64, 67, 0.15);\n",
              "      fill: #174EA6;\n",
              "    }\n",
              "\n",
              "    .colab-df-buttons div {\n",
              "      margin-bottom: 4px;\n",
              "    }\n",
              "\n",
              "    [theme=dark] .colab-df-convert {\n",
              "      background-color: #3B4455;\n",
              "      fill: #D2E3FC;\n",
              "    }\n",
              "\n",
              "    [theme=dark] .colab-df-convert:hover {\n",
              "      background-color: #434B5C;\n",
              "      box-shadow: 0px 1px 3px 1px rgba(0, 0, 0, 0.15);\n",
              "      filter: drop-shadow(0px 1px 2px rgba(0, 0, 0, 0.3));\n",
              "      fill: #FFFFFF;\n",
              "    }\n",
              "  </style>\n",
              "\n",
              "    <script>\n",
              "      const buttonEl =\n",
              "        document.querySelector('#df-31e3c4b4-2273-4ba8-a351-7e140bd16bb0 button.colab-df-convert');\n",
              "      buttonEl.style.display =\n",
              "        google.colab.kernel.accessAllowed ? 'block' : 'none';\n",
              "\n",
              "      async function convertToInteractive(key) {\n",
              "        const element = document.querySelector('#df-31e3c4b4-2273-4ba8-a351-7e140bd16bb0');\n",
              "        const dataTable =\n",
              "          await google.colab.kernel.invokeFunction('convertToInteractive',\n",
              "                                                    [key], {});\n",
              "        if (!dataTable) return;\n",
              "\n",
              "        const docLinkHtml = 'Like what you see? Visit the ' +\n",
              "          '<a target=\"_blank\" href=https://colab.research.google.com/notebooks/data_table.ipynb>data table notebook</a>'\n",
              "          + ' to learn more about interactive tables.';\n",
              "        element.innerHTML = '';\n",
              "        dataTable['output_type'] = 'display_data';\n",
              "        await google.colab.output.renderOutput(dataTable, element);\n",
              "        const docLink = document.createElement('div');\n",
              "        docLink.innerHTML = docLinkHtml;\n",
              "        element.appendChild(docLink);\n",
              "      }\n",
              "    </script>\n",
              "  </div>\n",
              "\n",
              "\n",
              "<div id=\"df-5c4f47aa-789b-4a13-bc43-b172dbdf9539\">\n",
              "  <button class=\"colab-df-quickchart\" onclick=\"quickchart('df-5c4f47aa-789b-4a13-bc43-b172dbdf9539')\"\n",
              "            title=\"Suggest charts\"\n",
              "            style=\"display:none;\">\n",
              "\n",
              "<svg xmlns=\"http://www.w3.org/2000/svg\" height=\"24px\"viewBox=\"0 0 24 24\"\n",
              "     width=\"24px\">\n",
              "    <g>\n",
              "        <path d=\"M19 3H5c-1.1 0-2 .9-2 2v14c0 1.1.9 2 2 2h14c1.1 0 2-.9 2-2V5c0-1.1-.9-2-2-2zM9 17H7v-7h2v7zm4 0h-2V7h2v10zm4 0h-2v-4h2v4z\"/>\n",
              "    </g>\n",
              "</svg>\n",
              "  </button>\n",
              "\n",
              "<style>\n",
              "  .colab-df-quickchart {\n",
              "      --bg-color: #E8F0FE;\n",
              "      --fill-color: #1967D2;\n",
              "      --hover-bg-color: #E2EBFA;\n",
              "      --hover-fill-color: #174EA6;\n",
              "      --disabled-fill-color: #AAA;\n",
              "      --disabled-bg-color: #DDD;\n",
              "  }\n",
              "\n",
              "  [theme=dark] .colab-df-quickchart {\n",
              "      --bg-color: #3B4455;\n",
              "      --fill-color: #D2E3FC;\n",
              "      --hover-bg-color: #434B5C;\n",
              "      --hover-fill-color: #FFFFFF;\n",
              "      --disabled-bg-color: #3B4455;\n",
              "      --disabled-fill-color: #666;\n",
              "  }\n",
              "\n",
              "  .colab-df-quickchart {\n",
              "    background-color: var(--bg-color);\n",
              "    border: none;\n",
              "    border-radius: 50%;\n",
              "    cursor: pointer;\n",
              "    display: none;\n",
              "    fill: var(--fill-color);\n",
              "    height: 32px;\n",
              "    padding: 0;\n",
              "    width: 32px;\n",
              "  }\n",
              "\n",
              "  .colab-df-quickchart:hover {\n",
              "    background-color: var(--hover-bg-color);\n",
              "    box-shadow: 0 1px 2px rgba(60, 64, 67, 0.3), 0 1px 3px 1px rgba(60, 64, 67, 0.15);\n",
              "    fill: var(--button-hover-fill-color);\n",
              "  }\n",
              "\n",
              "  .colab-df-quickchart-complete:disabled,\n",
              "  .colab-df-quickchart-complete:disabled:hover {\n",
              "    background-color: var(--disabled-bg-color);\n",
              "    fill: var(--disabled-fill-color);\n",
              "    box-shadow: none;\n",
              "  }\n",
              "\n",
              "  .colab-df-spinner {\n",
              "    border: 2px solid var(--fill-color);\n",
              "    border-color: transparent;\n",
              "    border-bottom-color: var(--fill-color);\n",
              "    animation:\n",
              "      spin 1s steps(1) infinite;\n",
              "  }\n",
              "\n",
              "  @keyframes spin {\n",
              "    0% {\n",
              "      border-color: transparent;\n",
              "      border-bottom-color: var(--fill-color);\n",
              "      border-left-color: var(--fill-color);\n",
              "    }\n",
              "    20% {\n",
              "      border-color: transparent;\n",
              "      border-left-color: var(--fill-color);\n",
              "      border-top-color: var(--fill-color);\n",
              "    }\n",
              "    30% {\n",
              "      border-color: transparent;\n",
              "      border-left-color: var(--fill-color);\n",
              "      border-top-color: var(--fill-color);\n",
              "      border-right-color: var(--fill-color);\n",
              "    }\n",
              "    40% {\n",
              "      border-color: transparent;\n",
              "      border-right-color: var(--fill-color);\n",
              "      border-top-color: var(--fill-color);\n",
              "    }\n",
              "    60% {\n",
              "      border-color: transparent;\n",
              "      border-right-color: var(--fill-color);\n",
              "    }\n",
              "    80% {\n",
              "      border-color: transparent;\n",
              "      border-right-color: var(--fill-color);\n",
              "      border-bottom-color: var(--fill-color);\n",
              "    }\n",
              "    90% {\n",
              "      border-color: transparent;\n",
              "      border-bottom-color: var(--fill-color);\n",
              "    }\n",
              "  }\n",
              "</style>\n",
              "\n",
              "  <script>\n",
              "    async function quickchart(key) {\n",
              "      const quickchartButtonEl =\n",
              "        document.querySelector('#' + key + ' button');\n",
              "      quickchartButtonEl.disabled = true;  // To prevent multiple clicks.\n",
              "      quickchartButtonEl.classList.add('colab-df-spinner');\n",
              "      try {\n",
              "        const charts = await google.colab.kernel.invokeFunction(\n",
              "            'suggestCharts', [key], {});\n",
              "      } catch (error) {\n",
              "        console.error('Error during call to suggestCharts:', error);\n",
              "      }\n",
              "      quickchartButtonEl.classList.remove('colab-df-spinner');\n",
              "      quickchartButtonEl.classList.add('colab-df-quickchart-complete');\n",
              "    }\n",
              "    (() => {\n",
              "      let quickchartButtonEl =\n",
              "        document.querySelector('#df-5c4f47aa-789b-4a13-bc43-b172dbdf9539 button');\n",
              "      quickchartButtonEl.style.display =\n",
              "        google.colab.kernel.accessAllowed ? 'block' : 'none';\n",
              "    })();\n",
              "  </script>\n",
              "</div>\n",
              "\n",
              "    </div>\n",
              "  </div>\n"
            ],
            "application/vnd.google.colaboratory.intrinsic+json": {
              "type": "dataframe",
              "repr_error": "0"
            }
          },
          "metadata": {},
          "execution_count": 52
        }
      ]
    },
    {
      "cell_type": "code",
      "source": [
        "df1.info()"
      ],
      "metadata": {
        "colab": {
          "base_uri": "https://localhost:8080/"
        },
        "id": "D3e6E5vJHSL5",
        "outputId": "f3db6bd5-d249-4b84-832a-7d70f115c658"
      },
      "execution_count": 54,
      "outputs": [
        {
          "output_type": "stream",
          "name": "stdout",
          "text": [
            "<class 'pandas.core.frame.DataFrame'>\n",
            "RangeIndex: 80 entries, 0 to 79\n",
            "Data columns (total 9 columns):\n",
            " #   Column    Non-Null Count  Dtype \n",
            "---  ------    --------------  ----- \n",
            " 0   No.       80 non-null     int64 \n",
            " 1   Runs      80 non-null     object\n",
            " 2   Against   80 non-null     object\n",
            " 3   Position  80 non-null     int64 \n",
            " 4   Innings   80 non-null     int64 \n",
            " 5   Venue     80 non-null     object\n",
            " 6   Ground    79 non-null     object\n",
            " 7   Date      80 non-null     object\n",
            " 8   Result    80 non-null     object\n",
            "dtypes: int64(3), object(6)\n",
            "memory usage: 5.8+ KB\n"
          ]
        }
      ]
    },
    {
      "cell_type": "code",
      "source": [
        "df1.isnull().sum()"
      ],
      "metadata": {
        "colab": {
          "base_uri": "https://localhost:8080/"
        },
        "id": "EgMbOsVxHdmq",
        "outputId": "723ca58c-ff2c-4a05-c668-c45d5c5b123b"
      },
      "execution_count": 55,
      "outputs": [
        {
          "output_type": "execute_result",
          "data": {
            "text/plain": [
              "No.         0\n",
              "Runs        0\n",
              "Against     0\n",
              "Position    0\n",
              "Innings     0\n",
              "Venue       0\n",
              "Ground      1\n",
              "Date        0\n",
              "Result      0\n",
              "dtype: int64"
            ]
          },
          "metadata": {},
          "execution_count": 55
        }
      ]
    },
    {
      "cell_type": "code",
      "source": [
        "sns.countplot(df1, x='Ground')\n",
        "df1['Ground'].value_counts()"
      ],
      "metadata": {
        "colab": {
          "base_uri": "https://localhost:8080/",
          "height": 540
        },
        "id": "xfcSSYl8HjHc",
        "outputId": "dee80813-52bf-4569-89e4-e72944f7aa28"
      },
      "execution_count": 60,
      "outputs": [
        {
          "output_type": "execute_result",
          "data": {
            "text/plain": [
              "Ground\n",
              "Home       37\n",
              "Away       36\n",
              "Neutral     6\n",
              "Name: count, dtype: int64"
            ]
          },
          "metadata": {},
          "execution_count": 60
        },
        {
          "output_type": "display_data",
          "data": {
            "text/plain": [
              "<Figure size 640x480 with 1 Axes>"
            ],
            "image/png": "[encoded data removed]"
          },
          "metadata": {}
        }
      ]
    },
    {
      "cell_type": "code",
      "source": [
        "df1['Ground'].value_counts().plot(kind='pie', autopct='%.2f')\n",
        "df1['Ground'].value_counts()"
      ],
      "metadata": {
        "colab": {
          "base_uri": "https://localhost:8080/",
          "height": 497
        },
        "id": "mtN5Av4MHq30",
        "outputId": "6bfaaa8c-ba09-457f-ef00-10ea59cb9987"
      },
      "execution_count": 62,
      "outputs": [
        {
          "output_type": "execute_result",
          "data": {
            "text/plain": [
              "Ground\n",
              "Home       37\n",
              "Away       36\n",
              "Neutral     6\n",
              "Name: count, dtype: int64"
            ]
          },
          "metadata": {},
          "execution_count": 62
        },
        {
          "output_type": "display_data",
          "data": {
            "text/plain": [
              "<Figure size 640x480 with 1 Axes>"
            ],
            "image/png": "[encoded data removed]"
          },
          "metadata": {}
        }
      ]
    },
    {
      "cell_type": "code",
      "source": [
        "df1['Result'].value_counts()"
      ],
      "metadata": {
        "colab": {
          "base_uri": "https://localhost:8080/"
        },
        "id": "FYUWFLKaIYAO",
        "outputId": "695f0d34-94f3-4fff-d525-73c76cf51d32"
      },
      "execution_count": 63,
      "outputs": [
        {
          "output_type": "execute_result",
          "data": {
            "text/plain": [
              "Result\n",
              "Won           55\n",
              "Lost          13\n",
              "Drawn          9\n",
              "Lost (D/L)     1\n",
              "Won (D/L)      1\n",
              "Tied           1\n",
              "Name: count, dtype: int64"
            ]
          },
          "metadata": {},
          "execution_count": 63
        }
      ]
    },
    {
      "cell_type": "code",
      "source": [
        "df1['Against'].value_counts().plot(kind='pie', autopct='%.2f')\n",
        "df1['Against'].value_counts()"
      ],
      "metadata": {
        "colab": {
          "base_uri": "https://localhost:8080/",
          "height": 716
        },
        "id": "4naLbNH2JhCF",
        "outputId": "3bd012f4-a87f-448f-a88b-a72388ef0a01"
      },
      "execution_count": 66,
      "outputs": [
        {
          "output_type": "execute_result",
          "data": {
            "text/plain": [
              "Against\n",
              " Australia       16\n",
              " Sri Lanka       15\n",
              " West Indies     11\n",
              " New Zealand      8\n",
              " England          8\n",
              " South Africa     7\n",
              " Bangladesh       6\n",
              " Pakistan         2\n",
              " Zimbabwe         1\n",
              " Afghanistan      1\n",
              "West Indies       1\n",
              "Pakistan          1\n",
              "Bangladesh        1\n",
              "South Africa      1\n",
              "New Zealand       1\n",
              "Name: count, dtype: int64"
            ]
          },
          "metadata": {},
          "execution_count": 66
        },
        {
          "output_type": "display_data",
          "data": {
            "text/plain": [
              "<Figure size 640x480 with 1 Axes>"
            ],
            "image/png": "[encoded data removed]"
          },
          "metadata": {}
        }
      ]
    },
    {
      "cell_type": "code",
      "source": [],
      "metadata": {
        "id": "LaNTAVDfJp8m"
      },
      "execution_count": null,
      "outputs": []
    }
  ]
}